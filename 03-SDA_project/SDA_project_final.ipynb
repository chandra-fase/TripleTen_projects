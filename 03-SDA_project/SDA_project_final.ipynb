{
 "cells": [
  {
   "cell_type": "markdown",
   "metadata": {},
   "source": [
    "# Which one is a better plan?\n",
    "\n",
    "You work as an analyst for the telecom operator Megaline. The company offers its clients two prepaid plans, Surf and Ultimate. The commercial department wants to know which of the plans brings in more revenue in order to adjust the advertising budget.\n",
    "\n",
    "You are going to carry out a preliminary analysis of the plans based on a relatively small client selection. You'll have the data on 500 Megaline clients: who the clients are, where they're from, which plan they use, and the number of calls they made and text messages they sent in 2018. Your job is to analyze the clients' behavior and determine which prepaid plan brings in more revenue."
   ]
  },
  {
   "cell_type": "markdown",
   "metadata": {},
   "source": [
    "## Initialization"
   ]
  },
  {
   "cell_type": "markdown",
   "metadata": {},
   "source": [
    "Importing the libraries needed to process the data."
   ]
  },
  {
   "cell_type": "code",
   "execution_count": 1,
   "metadata": {},
   "outputs": [],
   "source": [
    "# Loading all the libraries\n",
    "from scipy import stats as st\n",
    "from scipy.stats import f as f_test\n",
    "import matplotlib\n",
    "from matplotlib import pyplot as plt\n",
    "import pandas as pd\n",
    "import numpy as np"
   ]
  },
  {
   "cell_type": "markdown",
   "metadata": {},
   "source": [
    "## Load data"
   ]
  },
  {
   "cell_type": "markdown",
   "metadata": {},
   "source": [
    "Opening the data from Megaline."
   ]
  },
  {
   "cell_type": "code",
   "execution_count": 2,
   "metadata": {},
   "outputs": [],
   "source": [
    "# Load the data files into different DataFrames\n",
    "users_df = pd.read_csv('/datasets/megaline_users.csv')\n",
    "calls_df = pd.read_csv('/datasets/megaline_calls.csv')\n",
    "messages_df = pd.read_csv('/datasets/megaline_messages.csv')\n",
    "internet_df = pd.read_csv('/datasets/megaline_internet.csv')\n",
    "plans_df = pd.read_csv('/datasets/megaline_plans.csv')"
   ]
  },
  {
   "cell_type": "markdown",
   "metadata": {},
   "source": [
    "## Prepare the data"
   ]
  },
  {
   "cell_type": "markdown",
   "metadata": {},
   "source": [
    "The data is broken up into five datasets:\n",
    "\n",
    "`'users_df'` - contains eight columns:\n",
    "- `'user_id'`: unique user identifier\n",
    "- `'first_name'`: user's name\n",
    "- `'last_name'`: user's last name\n",
    "- `'age'`: user's age (years)\n",
    "- `'reg_date'`: subscription date (dd, mm, yy)\n",
    "- `'churn_date'`: the date the user stopped using the service (if the value is missing, the calling plan was being used when this database was extracted)\n",
    "- `'city'`: user's city of residence\n",
    "- `'plan'`: calling plan name\n",
    "\n",
    "\n",
    "`'calls_df'` - contains four columns:\n",
    "- `'id'`: unique call identifier\n",
    "- `'call_date'`: call date\n",
    "- `'duration'`: call duration (in minutes)\n",
    "- `'user_id'`: the identifier of the user making the call\n",
    "\n",
    "\n",
    "`'messages_df'` - contains three columns:\n",
    "- `'id'`: unique text message identifier\n",
    "- `'message_data'`: text message date\n",
    "- `'user_id'`: the identifier of the user sending the text\n",
    "\n",
    "\n",
    "`'internet_df'` - contains four columns:\n",
    "- `'id'`: unique session identifier\n",
    "- `'mb_used'`: the volume of data spent during the session (in megabytes)\n",
    "- `'session_date'`: web session date\n",
    "- `'user_id'`: user_identifier\n",
    "\n",
    "\n",
    "`'plans_df'` - contains eight columns:\n",
    "- `'plan_name'`: calling plan name\n",
    "- `'usd_monthly_fee'`: monthly cahrge in US dollars\n",
    "- `'minutes_included'`: monthly minute allowance\n",
    "- `'messages_included'`: monthly text allowance\n",
    "- `'mb_per_month_included'`: data volume allowance (in megabytes)\n",
    "- `'usd_per_minute'`: price per minute after exceeding the package limits\n",
    "- `'usd_per_message'`: price per text after exceeding the package limits\n",
    "- `'usd_per_gb'`: price per extra gigabyte of data after exceeding the plan limits (1 GB = 1024 megabytes)\n"
   ]
  },
  {
   "cell_type": "markdown",
   "metadata": {},
   "source": [
    "## Plans"
   ]
  },
  {
   "cell_type": "code",
   "execution_count": 3,
   "metadata": {},
   "outputs": [
    {
     "name": "stdout",
     "output_type": "stream",
     "text": [
      "<class 'pandas.core.frame.DataFrame'>\n",
      "RangeIndex: 2 entries, 0 to 1\n",
      "Data columns (total 8 columns):\n",
      " #   Column                 Non-Null Count  Dtype  \n",
      "---  ------                 --------------  -----  \n",
      " 0   messages_included      2 non-null      int64  \n",
      " 1   mb_per_month_included  2 non-null      int64  \n",
      " 2   minutes_included       2 non-null      int64  \n",
      " 3   usd_monthly_pay        2 non-null      int64  \n",
      " 4   usd_per_gb             2 non-null      int64  \n",
      " 5   usd_per_message        2 non-null      float64\n",
      " 6   usd_per_minute         2 non-null      float64\n",
      " 7   plan_name              2 non-null      object \n",
      "dtypes: float64(2), int64(5), object(1)\n",
      "memory usage: 256.0+ bytes\n"
     ]
    },
    {
     "data": {
      "text/plain": [
       "None"
      ]
     },
     "metadata": {},
     "output_type": "display_data"
    }
   ],
   "source": [
    "# Print the general/summary information about the plans' DataFrame\n",
    "display(plans_df.info())"
   ]
  },
  {
   "cell_type": "code",
   "execution_count": 4,
   "metadata": {},
   "outputs": [
    {
     "data": {
      "text/html": [
       "<div>\n",
       "<style scoped>\n",
       "    .dataframe tbody tr th:only-of-type {\n",
       "        vertical-align: middle;\n",
       "    }\n",
       "\n",
       "    .dataframe tbody tr th {\n",
       "        vertical-align: top;\n",
       "    }\n",
       "\n",
       "    .dataframe thead th {\n",
       "        text-align: right;\n",
       "    }\n",
       "</style>\n",
       "<table border=\"1\" class=\"dataframe\">\n",
       "  <thead>\n",
       "    <tr style=\"text-align: right;\">\n",
       "      <th></th>\n",
       "      <th>messages_included</th>\n",
       "      <th>mb_per_month_included</th>\n",
       "      <th>minutes_included</th>\n",
       "      <th>usd_monthly_pay</th>\n",
       "      <th>usd_per_gb</th>\n",
       "      <th>usd_per_message</th>\n",
       "      <th>usd_per_minute</th>\n",
       "      <th>plan_name</th>\n",
       "    </tr>\n",
       "  </thead>\n",
       "  <tbody>\n",
       "    <tr>\n",
       "      <th>0</th>\n",
       "      <td>50</td>\n",
       "      <td>15360</td>\n",
       "      <td>500</td>\n",
       "      <td>20</td>\n",
       "      <td>10</td>\n",
       "      <td>0.03</td>\n",
       "      <td>0.03</td>\n",
       "      <td>surf</td>\n",
       "    </tr>\n",
       "    <tr>\n",
       "      <th>1</th>\n",
       "      <td>1000</td>\n",
       "      <td>30720</td>\n",
       "      <td>3000</td>\n",
       "      <td>70</td>\n",
       "      <td>7</td>\n",
       "      <td>0.01</td>\n",
       "      <td>0.01</td>\n",
       "      <td>ultimate</td>\n",
       "    </tr>\n",
       "  </tbody>\n",
       "</table>\n",
       "</div>"
      ],
      "text/plain": [
       "   messages_included  mb_per_month_included  minutes_included  \\\n",
       "0                 50                  15360               500   \n",
       "1               1000                  30720              3000   \n",
       "\n",
       "   usd_monthly_pay  usd_per_gb  usd_per_message  usd_per_minute plan_name  \n",
       "0               20          10             0.03            0.03      surf  \n",
       "1               70           7             0.01            0.01  ultimate  "
      ]
     },
     "metadata": {},
     "output_type": "display_data"
    }
   ],
   "source": [
    "# Print a sample of data for plans\n",
    "display(plans_df)"
   ]
  },
  {
   "cell_type": "markdown",
   "metadata": {},
   "source": [
    "The `'plan_df'` data consists of two columns. There are no missing values and the data types seem to be correct."
   ]
  },
  {
   "cell_type": "markdown",
   "metadata": {},
   "source": [
    " "
   ]
  },
  {
   "cell_type": "markdown",
   "metadata": {},
   "source": [
    "## Fix data"
   ]
  },
  {
   "cell_type": "code",
   "execution_count": null,
   "metadata": {},
   "outputs": [],
   "source": []
  },
  {
   "cell_type": "markdown",
   "metadata": {},
   "source": [
    "## Enrich data"
   ]
  },
  {
   "cell_type": "code",
   "execution_count": 5,
   "metadata": {},
   "outputs": [
    {
     "data": {
      "text/html": [
       "<div>\n",
       "<style scoped>\n",
       "    .dataframe tbody tr th:only-of-type {\n",
       "        vertical-align: middle;\n",
       "    }\n",
       "\n",
       "    .dataframe tbody tr th {\n",
       "        vertical-align: top;\n",
       "    }\n",
       "\n",
       "    .dataframe thead th {\n",
       "        text-align: right;\n",
       "    }\n",
       "</style>\n",
       "<table border=\"1\" class=\"dataframe\">\n",
       "  <thead>\n",
       "    <tr style=\"text-align: right;\">\n",
       "      <th></th>\n",
       "      <th>messages_included</th>\n",
       "      <th>mb_per_month_included</th>\n",
       "      <th>minutes_included</th>\n",
       "      <th>usd_monthly_fee</th>\n",
       "      <th>usd_per_gb</th>\n",
       "      <th>usd_per_message</th>\n",
       "      <th>usd_per_minute</th>\n",
       "      <th>plan_name</th>\n",
       "    </tr>\n",
       "  </thead>\n",
       "  <tbody>\n",
       "    <tr>\n",
       "      <th>0</th>\n",
       "      <td>50</td>\n",
       "      <td>15360</td>\n",
       "      <td>500</td>\n",
       "      <td>20</td>\n",
       "      <td>10</td>\n",
       "      <td>0.03</td>\n",
       "      <td>0.03</td>\n",
       "      <td>surf</td>\n",
       "    </tr>\n",
       "    <tr>\n",
       "      <th>1</th>\n",
       "      <td>1000</td>\n",
       "      <td>30720</td>\n",
       "      <td>3000</td>\n",
       "      <td>70</td>\n",
       "      <td>7</td>\n",
       "      <td>0.01</td>\n",
       "      <td>0.01</td>\n",
       "      <td>ultimate</td>\n",
       "    </tr>\n",
       "  </tbody>\n",
       "</table>\n",
       "</div>"
      ],
      "text/plain": [
       "   messages_included  mb_per_month_included  minutes_included  \\\n",
       "0                 50                  15360               500   \n",
       "1               1000                  30720              3000   \n",
       "\n",
       "   usd_monthly_fee  usd_per_gb  usd_per_message  usd_per_minute plan_name  \n",
       "0               20          10             0.03            0.03      surf  \n",
       "1               70           7             0.01            0.01  ultimate  "
      ]
     },
     "metadata": {},
     "output_type": "display_data"
    }
   ],
   "source": [
    "plans_df = plans_df.rename(columns = {'usd_monthly_pay' : 'usd_monthly_fee'}) \n",
    "# to match description of data in project instructions\n",
    "\n",
    "display(plans_df)"
   ]
  },
  {
   "cell_type": "markdown",
   "metadata": {},
   "source": [
    "## Users"
   ]
  },
  {
   "cell_type": "code",
   "execution_count": 6,
   "metadata": {},
   "outputs": [
    {
     "name": "stdout",
     "output_type": "stream",
     "text": [
      "<class 'pandas.core.frame.DataFrame'>\n",
      "RangeIndex: 500 entries, 0 to 499\n",
      "Data columns (total 8 columns):\n",
      " #   Column      Non-Null Count  Dtype \n",
      "---  ------      --------------  ----- \n",
      " 0   user_id     500 non-null    int64 \n",
      " 1   first_name  500 non-null    object\n",
      " 2   last_name   500 non-null    object\n",
      " 3   age         500 non-null    int64 \n",
      " 4   city        500 non-null    object\n",
      " 5   reg_date    500 non-null    object\n",
      " 6   plan        500 non-null    object\n",
      " 7   churn_date  34 non-null     object\n",
      "dtypes: int64(2), object(6)\n",
      "memory usage: 31.4+ KB\n"
     ]
    },
    {
     "data": {
      "text/plain": [
       "None"
      ]
     },
     "metadata": {},
     "output_type": "display_data"
    }
   ],
   "source": [
    "# Print the general/summary information about the users' DataFrame\n",
    "display(users_df.info())\n"
   ]
  },
  {
   "cell_type": "code",
   "execution_count": 7,
   "metadata": {},
   "outputs": [
    {
     "data": {
      "text/html": [
       "<div>\n",
       "<style scoped>\n",
       "    .dataframe tbody tr th:only-of-type {\n",
       "        vertical-align: middle;\n",
       "    }\n",
       "\n",
       "    .dataframe tbody tr th {\n",
       "        vertical-align: top;\n",
       "    }\n",
       "\n",
       "    .dataframe thead th {\n",
       "        text-align: right;\n",
       "    }\n",
       "</style>\n",
       "<table border=\"1\" class=\"dataframe\">\n",
       "  <thead>\n",
       "    <tr style=\"text-align: right;\">\n",
       "      <th></th>\n",
       "      <th>user_id</th>\n",
       "      <th>first_name</th>\n",
       "      <th>last_name</th>\n",
       "      <th>age</th>\n",
       "      <th>city</th>\n",
       "      <th>reg_date</th>\n",
       "      <th>plan</th>\n",
       "      <th>churn_date</th>\n",
       "    </tr>\n",
       "  </thead>\n",
       "  <tbody>\n",
       "    <tr>\n",
       "      <th>12</th>\n",
       "      <td>1012</td>\n",
       "      <td>Jonelle</td>\n",
       "      <td>Mcbride</td>\n",
       "      <td>59</td>\n",
       "      <td>Chicago-Naperville-Elgin, IL-IN-WI MSA</td>\n",
       "      <td>2018-06-28</td>\n",
       "      <td>surf</td>\n",
       "      <td>2018-11-16</td>\n",
       "    </tr>\n",
       "    <tr>\n",
       "      <th>10</th>\n",
       "      <td>1010</td>\n",
       "      <td>Wilber</td>\n",
       "      <td>Blair</td>\n",
       "      <td>52</td>\n",
       "      <td>Dallas-Fort Worth-Arlington, TX MSA</td>\n",
       "      <td>2018-03-09</td>\n",
       "      <td>surf</td>\n",
       "      <td>NaN</td>\n",
       "    </tr>\n",
       "    <tr>\n",
       "      <th>317</th>\n",
       "      <td>1317</td>\n",
       "      <td>Ruthanne</td>\n",
       "      <td>Heath</td>\n",
       "      <td>70</td>\n",
       "      <td>Phoenix-Mesa-Chandler, AZ MSA</td>\n",
       "      <td>2018-11-11</td>\n",
       "      <td>ultimate</td>\n",
       "      <td>NaN</td>\n",
       "    </tr>\n",
       "    <tr>\n",
       "      <th>441</th>\n",
       "      <td>1441</td>\n",
       "      <td>Piedad</td>\n",
       "      <td>Myers</td>\n",
       "      <td>23</td>\n",
       "      <td>Atlanta-Sandy Springs-Roswell, GA MSA</td>\n",
       "      <td>2018-03-08</td>\n",
       "      <td>ultimate</td>\n",
       "      <td>2018-08-19</td>\n",
       "    </tr>\n",
       "    <tr>\n",
       "      <th>361</th>\n",
       "      <td>1361</td>\n",
       "      <td>Jacelyn</td>\n",
       "      <td>Hoffman</td>\n",
       "      <td>45</td>\n",
       "      <td>Birmingham-Hoover, AL MSA</td>\n",
       "      <td>2018-04-14</td>\n",
       "      <td>surf</td>\n",
       "      <td>NaN</td>\n",
       "    </tr>\n",
       "    <tr>\n",
       "      <th>103</th>\n",
       "      <td>1103</td>\n",
       "      <td>Moises</td>\n",
       "      <td>Weeks</td>\n",
       "      <td>28</td>\n",
       "      <td>Seattle-Tacoma-Bellevue, WA MSA</td>\n",
       "      <td>2018-07-01</td>\n",
       "      <td>surf</td>\n",
       "      <td>NaN</td>\n",
       "    </tr>\n",
       "    <tr>\n",
       "      <th>423</th>\n",
       "      <td>1423</td>\n",
       "      <td>Malcom</td>\n",
       "      <td>Neal</td>\n",
       "      <td>61</td>\n",
       "      <td>Philadelphia-Camden-Wilmington, PA-NJ-DE-MD MSA</td>\n",
       "      <td>2018-10-16</td>\n",
       "      <td>surf</td>\n",
       "      <td>NaN</td>\n",
       "    </tr>\n",
       "    <tr>\n",
       "      <th>269</th>\n",
       "      <td>1269</td>\n",
       "      <td>Irving</td>\n",
       "      <td>Thompson</td>\n",
       "      <td>39</td>\n",
       "      <td>Dallas-Fort Worth-Arlington, TX MSA</td>\n",
       "      <td>2018-09-13</td>\n",
       "      <td>ultimate</td>\n",
       "      <td>2018-12-15</td>\n",
       "    </tr>\n",
       "    <tr>\n",
       "      <th>98</th>\n",
       "      <td>1098</td>\n",
       "      <td>Collin</td>\n",
       "      <td>Sims</td>\n",
       "      <td>33</td>\n",
       "      <td>Albany-Schenectady-Troy, NY MSA</td>\n",
       "      <td>2018-08-14</td>\n",
       "      <td>surf</td>\n",
       "      <td>NaN</td>\n",
       "    </tr>\n",
       "    <tr>\n",
       "      <th>150</th>\n",
       "      <td>1150</td>\n",
       "      <td>Earlie</td>\n",
       "      <td>Giles</td>\n",
       "      <td>46</td>\n",
       "      <td>Houston-The Woodlands-Sugar Land, TX MSA</td>\n",
       "      <td>2018-09-19</td>\n",
       "      <td>ultimate</td>\n",
       "      <td>NaN</td>\n",
       "    </tr>\n",
       "  </tbody>\n",
       "</table>\n",
       "</div>"
      ],
      "text/plain": [
       "     user_id first_name last_name  age  \\\n",
       "12      1012    Jonelle   Mcbride   59   \n",
       "10      1010     Wilber     Blair   52   \n",
       "317     1317   Ruthanne     Heath   70   \n",
       "441     1441     Piedad     Myers   23   \n",
       "361     1361    Jacelyn   Hoffman   45   \n",
       "103     1103     Moises     Weeks   28   \n",
       "423     1423     Malcom      Neal   61   \n",
       "269     1269     Irving  Thompson   39   \n",
       "98      1098     Collin      Sims   33   \n",
       "150     1150     Earlie     Giles   46   \n",
       "\n",
       "                                                city    reg_date      plan  \\\n",
       "12            Chicago-Naperville-Elgin, IL-IN-WI MSA  2018-06-28      surf   \n",
       "10               Dallas-Fort Worth-Arlington, TX MSA  2018-03-09      surf   \n",
       "317                    Phoenix-Mesa-Chandler, AZ MSA  2018-11-11  ultimate   \n",
       "441            Atlanta-Sandy Springs-Roswell, GA MSA  2018-03-08  ultimate   \n",
       "361                        Birmingham-Hoover, AL MSA  2018-04-14      surf   \n",
       "103                  Seattle-Tacoma-Bellevue, WA MSA  2018-07-01      surf   \n",
       "423  Philadelphia-Camden-Wilmington, PA-NJ-DE-MD MSA  2018-10-16      surf   \n",
       "269              Dallas-Fort Worth-Arlington, TX MSA  2018-09-13  ultimate   \n",
       "98                   Albany-Schenectady-Troy, NY MSA  2018-08-14      surf   \n",
       "150         Houston-The Woodlands-Sugar Land, TX MSA  2018-09-19  ultimate   \n",
       "\n",
       "     churn_date  \n",
       "12   2018-11-16  \n",
       "10          NaN  \n",
       "317         NaN  \n",
       "441  2018-08-19  \n",
       "361         NaN  \n",
       "103         NaN  \n",
       "423         NaN  \n",
       "269  2018-12-15  \n",
       "98          NaN  \n",
       "150         NaN  "
      ]
     },
     "metadata": {},
     "output_type": "display_data"
    }
   ],
   "source": [
    "# Print a sample of data for users\n",
    "display(users_df.sample(10, random_state = 19))\n"
   ]
  },
  {
   "cell_type": "markdown",
   "metadata": {},
   "source": [
    "Looking at the datatypes for the `'users_df'` dataframe, we can see that the `'reg_date'` is categorized as 'object'. This will need to be changed to 'datetime'. We can also see that we are missing values in the `'churn_date'` column. Although this is technically correct, I will replace the missing values with 'Active' in order to make the data look complete and easier to read."
   ]
  },
  {
   "cell_type": "markdown",
   "metadata": {},
   "source": [
    " "
   ]
  },
  {
   "cell_type": "markdown",
   "metadata": {},
   "source": [
    "### Fix Data"
   ]
  },
  {
   "cell_type": "code",
   "execution_count": 8,
   "metadata": {},
   "outputs": [],
   "source": [
    "users_df['reg_date'] = pd.to_datetime(users_df['reg_date'], format = '%Y-%m-%d')"
   ]
  },
  {
   "cell_type": "markdown",
   "metadata": {},
   "source": [
    "### Enrich Data"
   ]
  },
  {
   "cell_type": "code",
   "execution_count": 9,
   "metadata": {},
   "outputs": [
    {
     "data": {
      "text/html": [
       "<div>\n",
       "<style scoped>\n",
       "    .dataframe tbody tr th:only-of-type {\n",
       "        vertical-align: middle;\n",
       "    }\n",
       "\n",
       "    .dataframe tbody tr th {\n",
       "        vertical-align: top;\n",
       "    }\n",
       "\n",
       "    .dataframe thead th {\n",
       "        text-align: right;\n",
       "    }\n",
       "</style>\n",
       "<table border=\"1\" class=\"dataframe\">\n",
       "  <thead>\n",
       "    <tr style=\"text-align: right;\">\n",
       "      <th></th>\n",
       "      <th>user_id</th>\n",
       "      <th>first_name</th>\n",
       "      <th>last_name</th>\n",
       "      <th>age</th>\n",
       "      <th>city</th>\n",
       "      <th>reg_date</th>\n",
       "      <th>plan_name</th>\n",
       "      <th>churn_date</th>\n",
       "    </tr>\n",
       "  </thead>\n",
       "  <tbody>\n",
       "    <tr>\n",
       "      <th>12</th>\n",
       "      <td>1012</td>\n",
       "      <td>Jonelle</td>\n",
       "      <td>Mcbride</td>\n",
       "      <td>59</td>\n",
       "      <td>Chicago-Naperville-Elgin, IL-IN-WI MSA</td>\n",
       "      <td>2018-06-28</td>\n",
       "      <td>surf</td>\n",
       "      <td>2018-11-16</td>\n",
       "    </tr>\n",
       "    <tr>\n",
       "      <th>10</th>\n",
       "      <td>1010</td>\n",
       "      <td>Wilber</td>\n",
       "      <td>Blair</td>\n",
       "      <td>52</td>\n",
       "      <td>Dallas-Fort Worth-Arlington, TX MSA</td>\n",
       "      <td>2018-03-09</td>\n",
       "      <td>surf</td>\n",
       "      <td>Active</td>\n",
       "    </tr>\n",
       "    <tr>\n",
       "      <th>317</th>\n",
       "      <td>1317</td>\n",
       "      <td>Ruthanne</td>\n",
       "      <td>Heath</td>\n",
       "      <td>70</td>\n",
       "      <td>Phoenix-Mesa-Chandler, AZ MSA</td>\n",
       "      <td>2018-11-11</td>\n",
       "      <td>ultimate</td>\n",
       "      <td>Active</td>\n",
       "    </tr>\n",
       "    <tr>\n",
       "      <th>441</th>\n",
       "      <td>1441</td>\n",
       "      <td>Piedad</td>\n",
       "      <td>Myers</td>\n",
       "      <td>23</td>\n",
       "      <td>Atlanta-Sandy Springs-Roswell, GA MSA</td>\n",
       "      <td>2018-03-08</td>\n",
       "      <td>ultimate</td>\n",
       "      <td>2018-08-19</td>\n",
       "    </tr>\n",
       "    <tr>\n",
       "      <th>361</th>\n",
       "      <td>1361</td>\n",
       "      <td>Jacelyn</td>\n",
       "      <td>Hoffman</td>\n",
       "      <td>45</td>\n",
       "      <td>Birmingham-Hoover, AL MSA</td>\n",
       "      <td>2018-04-14</td>\n",
       "      <td>surf</td>\n",
       "      <td>Active</td>\n",
       "    </tr>\n",
       "    <tr>\n",
       "      <th>103</th>\n",
       "      <td>1103</td>\n",
       "      <td>Moises</td>\n",
       "      <td>Weeks</td>\n",
       "      <td>28</td>\n",
       "      <td>Seattle-Tacoma-Bellevue, WA MSA</td>\n",
       "      <td>2018-07-01</td>\n",
       "      <td>surf</td>\n",
       "      <td>Active</td>\n",
       "    </tr>\n",
       "    <tr>\n",
       "      <th>423</th>\n",
       "      <td>1423</td>\n",
       "      <td>Malcom</td>\n",
       "      <td>Neal</td>\n",
       "      <td>61</td>\n",
       "      <td>Philadelphia-Camden-Wilmington, PA-NJ-DE-MD MSA</td>\n",
       "      <td>2018-10-16</td>\n",
       "      <td>surf</td>\n",
       "      <td>Active</td>\n",
       "    </tr>\n",
       "    <tr>\n",
       "      <th>269</th>\n",
       "      <td>1269</td>\n",
       "      <td>Irving</td>\n",
       "      <td>Thompson</td>\n",
       "      <td>39</td>\n",
       "      <td>Dallas-Fort Worth-Arlington, TX MSA</td>\n",
       "      <td>2018-09-13</td>\n",
       "      <td>ultimate</td>\n",
       "      <td>2018-12-15</td>\n",
       "    </tr>\n",
       "    <tr>\n",
       "      <th>98</th>\n",
       "      <td>1098</td>\n",
       "      <td>Collin</td>\n",
       "      <td>Sims</td>\n",
       "      <td>33</td>\n",
       "      <td>Albany-Schenectady-Troy, NY MSA</td>\n",
       "      <td>2018-08-14</td>\n",
       "      <td>surf</td>\n",
       "      <td>Active</td>\n",
       "    </tr>\n",
       "    <tr>\n",
       "      <th>150</th>\n",
       "      <td>1150</td>\n",
       "      <td>Earlie</td>\n",
       "      <td>Giles</td>\n",
       "      <td>46</td>\n",
       "      <td>Houston-The Woodlands-Sugar Land, TX MSA</td>\n",
       "      <td>2018-09-19</td>\n",
       "      <td>ultimate</td>\n",
       "      <td>Active</td>\n",
       "    </tr>\n",
       "  </tbody>\n",
       "</table>\n",
       "</div>"
      ],
      "text/plain": [
       "     user_id first_name last_name  age  \\\n",
       "12      1012    Jonelle   Mcbride   59   \n",
       "10      1010     Wilber     Blair   52   \n",
       "317     1317   Ruthanne     Heath   70   \n",
       "441     1441     Piedad     Myers   23   \n",
       "361     1361    Jacelyn   Hoffman   45   \n",
       "103     1103     Moises     Weeks   28   \n",
       "423     1423     Malcom      Neal   61   \n",
       "269     1269     Irving  Thompson   39   \n",
       "98      1098     Collin      Sims   33   \n",
       "150     1150     Earlie     Giles   46   \n",
       "\n",
       "                                                city   reg_date plan_name  \\\n",
       "12            Chicago-Naperville-Elgin, IL-IN-WI MSA 2018-06-28      surf   \n",
       "10               Dallas-Fort Worth-Arlington, TX MSA 2018-03-09      surf   \n",
       "317                    Phoenix-Mesa-Chandler, AZ MSA 2018-11-11  ultimate   \n",
       "441            Atlanta-Sandy Springs-Roswell, GA MSA 2018-03-08  ultimate   \n",
       "361                        Birmingham-Hoover, AL MSA 2018-04-14      surf   \n",
       "103                  Seattle-Tacoma-Bellevue, WA MSA 2018-07-01      surf   \n",
       "423  Philadelphia-Camden-Wilmington, PA-NJ-DE-MD MSA 2018-10-16      surf   \n",
       "269              Dallas-Fort Worth-Arlington, TX MSA 2018-09-13  ultimate   \n",
       "98                   Albany-Schenectady-Troy, NY MSA 2018-08-14      surf   \n",
       "150         Houston-The Woodlands-Sugar Land, TX MSA 2018-09-19  ultimate   \n",
       "\n",
       "     churn_date  \n",
       "12   2018-11-16  \n",
       "10       Active  \n",
       "317      Active  \n",
       "441  2018-08-19  \n",
       "361      Active  \n",
       "103      Active  \n",
       "423      Active  \n",
       "269  2018-12-15  \n",
       "98       Active  \n",
       "150      Active  "
      ]
     },
     "metadata": {},
     "output_type": "display_data"
    }
   ],
   "source": [
    "users_df['churn_date'] = users_df['churn_date'].fillna('Active')\n",
    "users_df = users_df.rename(columns = {'plan' : 'plan_name'})\n",
    "display(users_df.sample(10, random_state = 19))"
   ]
  },
  {
   "cell_type": "markdown",
   "metadata": {},
   "source": [
    "## Calls"
   ]
  },
  {
   "cell_type": "code",
   "execution_count": 10,
   "metadata": {},
   "outputs": [
    {
     "name": "stdout",
     "output_type": "stream",
     "text": [
      "<class 'pandas.core.frame.DataFrame'>\n",
      "RangeIndex: 137735 entries, 0 to 137734\n",
      "Data columns (total 4 columns):\n",
      " #   Column     Non-Null Count   Dtype  \n",
      "---  ------     --------------   -----  \n",
      " 0   id         137735 non-null  object \n",
      " 1   user_id    137735 non-null  int64  \n",
      " 2   call_date  137735 non-null  object \n",
      " 3   duration   137735 non-null  float64\n",
      "dtypes: float64(1), int64(1), object(2)\n",
      "memory usage: 4.2+ MB\n"
     ]
    },
    {
     "data": {
      "text/plain": [
       "None"
      ]
     },
     "metadata": {},
     "output_type": "display_data"
    }
   ],
   "source": [
    "# Print the general/summary information about the calls' DataFrame\n",
    "display(calls_df.info())\n"
   ]
  },
  {
   "cell_type": "code",
   "execution_count": 11,
   "metadata": {},
   "outputs": [
    {
     "data": {
      "text/html": [
       "<div>\n",
       "<style scoped>\n",
       "    .dataframe tbody tr th:only-of-type {\n",
       "        vertical-align: middle;\n",
       "    }\n",
       "\n",
       "    .dataframe tbody tr th {\n",
       "        vertical-align: top;\n",
       "    }\n",
       "\n",
       "    .dataframe thead th {\n",
       "        text-align: right;\n",
       "    }\n",
       "</style>\n",
       "<table border=\"1\" class=\"dataframe\">\n",
       "  <thead>\n",
       "    <tr style=\"text-align: right;\">\n",
       "      <th></th>\n",
       "      <th>id</th>\n",
       "      <th>user_id</th>\n",
       "      <th>call_date</th>\n",
       "      <th>duration</th>\n",
       "    </tr>\n",
       "  </thead>\n",
       "  <tbody>\n",
       "    <tr>\n",
       "      <th>122747</th>\n",
       "      <td>1434_34</td>\n",
       "      <td>1434</td>\n",
       "      <td>2018-08-18</td>\n",
       "      <td>0.00</td>\n",
       "    </tr>\n",
       "    <tr>\n",
       "      <th>97108</th>\n",
       "      <td>1346_338</td>\n",
       "      <td>1346</td>\n",
       "      <td>2018-09-16</td>\n",
       "      <td>4.06</td>\n",
       "    </tr>\n",
       "    <tr>\n",
       "      <th>36874</th>\n",
       "      <td>1140_158</td>\n",
       "      <td>1140</td>\n",
       "      <td>2018-09-21</td>\n",
       "      <td>10.44</td>\n",
       "    </tr>\n",
       "    <tr>\n",
       "      <th>24310</th>\n",
       "      <td>1091_78</td>\n",
       "      <td>1091</td>\n",
       "      <td>2018-11-07</td>\n",
       "      <td>4.70</td>\n",
       "    </tr>\n",
       "    <tr>\n",
       "      <th>28423</th>\n",
       "      <td>1109_50</td>\n",
       "      <td>1109</td>\n",
       "      <td>2018-12-29</td>\n",
       "      <td>1.15</td>\n",
       "    </tr>\n",
       "    <tr>\n",
       "      <th>84310</th>\n",
       "      <td>1310_45</td>\n",
       "      <td>1310</td>\n",
       "      <td>2018-12-06</td>\n",
       "      <td>0.95</td>\n",
       "    </tr>\n",
       "    <tr>\n",
       "      <th>71115</th>\n",
       "      <td>1252_615</td>\n",
       "      <td>1252</td>\n",
       "      <td>2018-12-25</td>\n",
       "      <td>0.00</td>\n",
       "    </tr>\n",
       "    <tr>\n",
       "      <th>25576</th>\n",
       "      <td>1098_263</td>\n",
       "      <td>1098</td>\n",
       "      <td>2018-09-19</td>\n",
       "      <td>9.21</td>\n",
       "    </tr>\n",
       "    <tr>\n",
       "      <th>105276</th>\n",
       "      <td>1370_590</td>\n",
       "      <td>1370</td>\n",
       "      <td>2018-12-03</td>\n",
       "      <td>6.82</td>\n",
       "    </tr>\n",
       "    <tr>\n",
       "      <th>118881</th>\n",
       "      <td>1414_179</td>\n",
       "      <td>1414</td>\n",
       "      <td>2018-10-15</td>\n",
       "      <td>20.73</td>\n",
       "    </tr>\n",
       "  </tbody>\n",
       "</table>\n",
       "</div>"
      ],
      "text/plain": [
       "              id  user_id   call_date  duration\n",
       "122747   1434_34     1434  2018-08-18      0.00\n",
       "97108   1346_338     1346  2018-09-16      4.06\n",
       "36874   1140_158     1140  2018-09-21     10.44\n",
       "24310    1091_78     1091  2018-11-07      4.70\n",
       "28423    1109_50     1109  2018-12-29      1.15\n",
       "84310    1310_45     1310  2018-12-06      0.95\n",
       "71115   1252_615     1252  2018-12-25      0.00\n",
       "25576   1098_263     1098  2018-09-19      9.21\n",
       "105276  1370_590     1370  2018-12-03      6.82\n",
       "118881  1414_179     1414  2018-10-15     20.73"
      ]
     },
     "metadata": {},
     "output_type": "display_data"
    }
   ],
   "source": [
    "# Print a sample of data for calls\n",
    "display(calls_df.sample(10, random_state = 19))\n"
   ]
  },
  {
   "cell_type": "markdown",
   "metadata": {},
   "source": [
    "There are no missing values, however, similar to the data frame above, the `'call_data'` column in this data frame is categorized as 'object' instead of 'datetime.' Also, looking at the values in the `'duration'` column, we can see some calls are 0.00 minutes long. Megaline rounds seconds to minutes. In this case a believe it is rational to replace 0.00 values with 1.00 minutes. Ideally we would ask the owner of the data what these records actually mean, however, we are unable to do so in this instance. We also need to round up the rest of the values in that column.\n",
    "\n",
    "Changing the name of the `'id'` column to `'call_id'` will help distinguish which unique identifier we are looking at when we merge any of the data frames with this one."
   ]
  },
  {
   "cell_type": "markdown",
   "metadata": {},
   "source": [
    " "
   ]
  },
  {
   "cell_type": "markdown",
   "metadata": {},
   "source": [
    "### Fix data"
   ]
  },
  {
   "cell_type": "code",
   "execution_count": 12,
   "metadata": {},
   "outputs": [],
   "source": [
    "calls_df['call_date'] = pd.to_datetime(calls_df['call_date'], format = '%Y-%m-%d')"
   ]
  },
  {
   "cell_type": "markdown",
   "metadata": {},
   "source": [
    "### Enrich data"
   ]
  },
  {
   "cell_type": "code",
   "execution_count": 13,
   "metadata": {},
   "outputs": [
    {
     "data": {
      "text/html": [
       "<div>\n",
       "<style scoped>\n",
       "    .dataframe tbody tr th:only-of-type {\n",
       "        vertical-align: middle;\n",
       "    }\n",
       "\n",
       "    .dataframe tbody tr th {\n",
       "        vertical-align: top;\n",
       "    }\n",
       "\n",
       "    .dataframe thead th {\n",
       "        text-align: right;\n",
       "    }\n",
       "</style>\n",
       "<table border=\"1\" class=\"dataframe\">\n",
       "  <thead>\n",
       "    <tr style=\"text-align: right;\">\n",
       "      <th></th>\n",
       "      <th>call_id</th>\n",
       "      <th>user_id</th>\n",
       "      <th>call_date</th>\n",
       "      <th>duration</th>\n",
       "    </tr>\n",
       "  </thead>\n",
       "  <tbody>\n",
       "    <tr>\n",
       "      <th>122747</th>\n",
       "      <td>1434_34</td>\n",
       "      <td>1434</td>\n",
       "      <td>2018-08-18</td>\n",
       "      <td>1.0</td>\n",
       "    </tr>\n",
       "    <tr>\n",
       "      <th>97108</th>\n",
       "      <td>1346_338</td>\n",
       "      <td>1346</td>\n",
       "      <td>2018-09-16</td>\n",
       "      <td>5.0</td>\n",
       "    </tr>\n",
       "    <tr>\n",
       "      <th>36874</th>\n",
       "      <td>1140_158</td>\n",
       "      <td>1140</td>\n",
       "      <td>2018-09-21</td>\n",
       "      <td>11.0</td>\n",
       "    </tr>\n",
       "    <tr>\n",
       "      <th>24310</th>\n",
       "      <td>1091_78</td>\n",
       "      <td>1091</td>\n",
       "      <td>2018-11-07</td>\n",
       "      <td>5.0</td>\n",
       "    </tr>\n",
       "    <tr>\n",
       "      <th>28423</th>\n",
       "      <td>1109_50</td>\n",
       "      <td>1109</td>\n",
       "      <td>2018-12-29</td>\n",
       "      <td>2.0</td>\n",
       "    </tr>\n",
       "    <tr>\n",
       "      <th>84310</th>\n",
       "      <td>1310_45</td>\n",
       "      <td>1310</td>\n",
       "      <td>2018-12-06</td>\n",
       "      <td>1.0</td>\n",
       "    </tr>\n",
       "    <tr>\n",
       "      <th>71115</th>\n",
       "      <td>1252_615</td>\n",
       "      <td>1252</td>\n",
       "      <td>2018-12-25</td>\n",
       "      <td>1.0</td>\n",
       "    </tr>\n",
       "    <tr>\n",
       "      <th>25576</th>\n",
       "      <td>1098_263</td>\n",
       "      <td>1098</td>\n",
       "      <td>2018-09-19</td>\n",
       "      <td>10.0</td>\n",
       "    </tr>\n",
       "    <tr>\n",
       "      <th>105276</th>\n",
       "      <td>1370_590</td>\n",
       "      <td>1370</td>\n",
       "      <td>2018-12-03</td>\n",
       "      <td>7.0</td>\n",
       "    </tr>\n",
       "    <tr>\n",
       "      <th>118881</th>\n",
       "      <td>1414_179</td>\n",
       "      <td>1414</td>\n",
       "      <td>2018-10-15</td>\n",
       "      <td>21.0</td>\n",
       "    </tr>\n",
       "  </tbody>\n",
       "</table>\n",
       "</div>"
      ],
      "text/plain": [
       "         call_id  user_id  call_date  duration\n",
       "122747   1434_34     1434 2018-08-18       1.0\n",
       "97108   1346_338     1346 2018-09-16       5.0\n",
       "36874   1140_158     1140 2018-09-21      11.0\n",
       "24310    1091_78     1091 2018-11-07       5.0\n",
       "28423    1109_50     1109 2018-12-29       2.0\n",
       "84310    1310_45     1310 2018-12-06       1.0\n",
       "71115   1252_615     1252 2018-12-25       1.0\n",
       "25576   1098_263     1098 2018-09-19      10.0\n",
       "105276  1370_590     1370 2018-12-03       7.0\n",
       "118881  1414_179     1414 2018-10-15      21.0"
      ]
     },
     "metadata": {},
     "output_type": "display_data"
    }
   ],
   "source": [
    "calls_df = calls_df.rename(columns = {'id' : 'call_id'})\n",
    "calls_df['duration'] = calls_df['duration'].replace(0.00, 1)\n",
    "calls_df['duration'] = calls_df['duration'].apply(np.ceil)\n",
    "display(calls_df.sample(10, random_state = 19))"
   ]
  },
  {
   "cell_type": "markdown",
   "metadata": {},
   "source": [
    "## Messages"
   ]
  },
  {
   "cell_type": "code",
   "execution_count": 14,
   "metadata": {},
   "outputs": [
    {
     "name": "stdout",
     "output_type": "stream",
     "text": [
      "<class 'pandas.core.frame.DataFrame'>\n",
      "RangeIndex: 76051 entries, 0 to 76050\n",
      "Data columns (total 3 columns):\n",
      " #   Column        Non-Null Count  Dtype \n",
      "---  ------        --------------  ----- \n",
      " 0   id            76051 non-null  object\n",
      " 1   user_id       76051 non-null  int64 \n",
      " 2   message_date  76051 non-null  object\n",
      "dtypes: int64(1), object(2)\n",
      "memory usage: 1.7+ MB\n"
     ]
    },
    {
     "data": {
      "text/plain": [
       "None"
      ]
     },
     "metadata": {},
     "output_type": "display_data"
    }
   ],
   "source": [
    "# Print the general/summary information about the messages' DataFrame\n",
    "display(messages_df.info())\n"
   ]
  },
  {
   "cell_type": "code",
   "execution_count": 15,
   "metadata": {},
   "outputs": [
    {
     "data": {
      "text/html": [
       "<div>\n",
       "<style scoped>\n",
       "    .dataframe tbody tr th:only-of-type {\n",
       "        vertical-align: middle;\n",
       "    }\n",
       "\n",
       "    .dataframe tbody tr th {\n",
       "        vertical-align: top;\n",
       "    }\n",
       "\n",
       "    .dataframe thead th {\n",
       "        text-align: right;\n",
       "    }\n",
       "</style>\n",
       "<table border=\"1\" class=\"dataframe\">\n",
       "  <thead>\n",
       "    <tr style=\"text-align: right;\">\n",
       "      <th></th>\n",
       "      <th>id</th>\n",
       "      <th>user_id</th>\n",
       "      <th>message_date</th>\n",
       "    </tr>\n",
       "  </thead>\n",
       "  <tbody>\n",
       "    <tr>\n",
       "      <th>5983</th>\n",
       "      <td>1055_101</td>\n",
       "      <td>1055</td>\n",
       "      <td>2018-05-15</td>\n",
       "    </tr>\n",
       "    <tr>\n",
       "      <th>30573</th>\n",
       "      <td>1193_175</td>\n",
       "      <td>1193</td>\n",
       "      <td>2018-10-16</td>\n",
       "    </tr>\n",
       "    <tr>\n",
       "      <th>3410</th>\n",
       "      <td>1036_245</td>\n",
       "      <td>1036</td>\n",
       "      <td>2018-08-18</td>\n",
       "    </tr>\n",
       "    <tr>\n",
       "      <th>49099</th>\n",
       "      <td>1328_57</td>\n",
       "      <td>1328</td>\n",
       "      <td>2018-11-07</td>\n",
       "    </tr>\n",
       "    <tr>\n",
       "      <th>16449</th>\n",
       "      <td>1110_340</td>\n",
       "      <td>1110</td>\n",
       "      <td>2018-12-27</td>\n",
       "    </tr>\n",
       "    <tr>\n",
       "      <th>22226</th>\n",
       "      <td>1133_144</td>\n",
       "      <td>1133</td>\n",
       "      <td>2018-08-14</td>\n",
       "    </tr>\n",
       "    <tr>\n",
       "      <th>39163</th>\n",
       "      <td>1255_193</td>\n",
       "      <td>1255</td>\n",
       "      <td>2018-11-21</td>\n",
       "    </tr>\n",
       "    <tr>\n",
       "      <th>60552</th>\n",
       "      <td>1382_88</td>\n",
       "      <td>1382</td>\n",
       "      <td>2018-12-12</td>\n",
       "    </tr>\n",
       "    <tr>\n",
       "      <th>24319</th>\n",
       "      <td>1145_174</td>\n",
       "      <td>1145</td>\n",
       "      <td>2018-07-06</td>\n",
       "    </tr>\n",
       "    <tr>\n",
       "      <th>50679</th>\n",
       "      <td>1330_42</td>\n",
       "      <td>1330</td>\n",
       "      <td>2018-12-29</td>\n",
       "    </tr>\n",
       "  </tbody>\n",
       "</table>\n",
       "</div>"
      ],
      "text/plain": [
       "             id  user_id message_date\n",
       "5983   1055_101     1055   2018-05-15\n",
       "30573  1193_175     1193   2018-10-16\n",
       "3410   1036_245     1036   2018-08-18\n",
       "49099   1328_57     1328   2018-11-07\n",
       "16449  1110_340     1110   2018-12-27\n",
       "22226  1133_144     1133   2018-08-14\n",
       "39163  1255_193     1255   2018-11-21\n",
       "60552   1382_88     1382   2018-12-12\n",
       "24319  1145_174     1145   2018-07-06\n",
       "50679   1330_42     1330   2018-12-29"
      ]
     },
     "metadata": {},
     "output_type": "display_data"
    }
   ],
   "source": [
    "# Print a sample of data for messages\n",
    "display(messages_df.sample(10, random_state = 19))\n"
   ]
  },
  {
   "cell_type": "markdown",
   "metadata": {},
   "source": [
    "There are no missing values, but, again, the `'message_date'` column in this data frame is categorized as 'object' instead of 'datetime.' Changing the name of the `'id'` column to `'message_id'` will help distinguish which unique identifier we are looking at when we merge any of the data frames with this one."
   ]
  },
  {
   "cell_type": "markdown",
   "metadata": {},
   "source": [
    " "
   ]
  },
  {
   "cell_type": "markdown",
   "metadata": {},
   "source": [
    "### Fix data"
   ]
  },
  {
   "cell_type": "code",
   "execution_count": 16,
   "metadata": {},
   "outputs": [],
   "source": [
    "messages_df['message_date'] = pd.to_datetime(messages_df['message_date'], format = '%Y-%m-%d')"
   ]
  },
  {
   "cell_type": "markdown",
   "metadata": {},
   "source": [
    "### Enrich data"
   ]
  },
  {
   "cell_type": "code",
   "execution_count": 17,
   "metadata": {},
   "outputs": [
    {
     "data": {
      "text/html": [
       "<div>\n",
       "<style scoped>\n",
       "    .dataframe tbody tr th:only-of-type {\n",
       "        vertical-align: middle;\n",
       "    }\n",
       "\n",
       "    .dataframe tbody tr th {\n",
       "        vertical-align: top;\n",
       "    }\n",
       "\n",
       "    .dataframe thead th {\n",
       "        text-align: right;\n",
       "    }\n",
       "</style>\n",
       "<table border=\"1\" class=\"dataframe\">\n",
       "  <thead>\n",
       "    <tr style=\"text-align: right;\">\n",
       "      <th></th>\n",
       "      <th>message_id</th>\n",
       "      <th>user_id</th>\n",
       "      <th>message_date</th>\n",
       "    </tr>\n",
       "  </thead>\n",
       "  <tbody>\n",
       "    <tr>\n",
       "      <th>5983</th>\n",
       "      <td>1055_101</td>\n",
       "      <td>1055</td>\n",
       "      <td>2018-05-15</td>\n",
       "    </tr>\n",
       "    <tr>\n",
       "      <th>30573</th>\n",
       "      <td>1193_175</td>\n",
       "      <td>1193</td>\n",
       "      <td>2018-10-16</td>\n",
       "    </tr>\n",
       "    <tr>\n",
       "      <th>3410</th>\n",
       "      <td>1036_245</td>\n",
       "      <td>1036</td>\n",
       "      <td>2018-08-18</td>\n",
       "    </tr>\n",
       "    <tr>\n",
       "      <th>49099</th>\n",
       "      <td>1328_57</td>\n",
       "      <td>1328</td>\n",
       "      <td>2018-11-07</td>\n",
       "    </tr>\n",
       "    <tr>\n",
       "      <th>16449</th>\n",
       "      <td>1110_340</td>\n",
       "      <td>1110</td>\n",
       "      <td>2018-12-27</td>\n",
       "    </tr>\n",
       "    <tr>\n",
       "      <th>22226</th>\n",
       "      <td>1133_144</td>\n",
       "      <td>1133</td>\n",
       "      <td>2018-08-14</td>\n",
       "    </tr>\n",
       "    <tr>\n",
       "      <th>39163</th>\n",
       "      <td>1255_193</td>\n",
       "      <td>1255</td>\n",
       "      <td>2018-11-21</td>\n",
       "    </tr>\n",
       "    <tr>\n",
       "      <th>60552</th>\n",
       "      <td>1382_88</td>\n",
       "      <td>1382</td>\n",
       "      <td>2018-12-12</td>\n",
       "    </tr>\n",
       "    <tr>\n",
       "      <th>24319</th>\n",
       "      <td>1145_174</td>\n",
       "      <td>1145</td>\n",
       "      <td>2018-07-06</td>\n",
       "    </tr>\n",
       "    <tr>\n",
       "      <th>50679</th>\n",
       "      <td>1330_42</td>\n",
       "      <td>1330</td>\n",
       "      <td>2018-12-29</td>\n",
       "    </tr>\n",
       "  </tbody>\n",
       "</table>\n",
       "</div>"
      ],
      "text/plain": [
       "      message_id  user_id message_date\n",
       "5983    1055_101     1055   2018-05-15\n",
       "30573   1193_175     1193   2018-10-16\n",
       "3410    1036_245     1036   2018-08-18\n",
       "49099    1328_57     1328   2018-11-07\n",
       "16449   1110_340     1110   2018-12-27\n",
       "22226   1133_144     1133   2018-08-14\n",
       "39163   1255_193     1255   2018-11-21\n",
       "60552    1382_88     1382   2018-12-12\n",
       "24319   1145_174     1145   2018-07-06\n",
       "50679    1330_42     1330   2018-12-29"
      ]
     },
     "metadata": {},
     "output_type": "display_data"
    }
   ],
   "source": [
    "messages_df = messages_df.rename(columns = {'id' : 'message_id'})\n",
    "display(messages_df.sample(10, random_state = 19))"
   ]
  },
  {
   "cell_type": "markdown",
   "metadata": {},
   "source": [
    "## Internet"
   ]
  },
  {
   "cell_type": "code",
   "execution_count": 18,
   "metadata": {},
   "outputs": [
    {
     "name": "stdout",
     "output_type": "stream",
     "text": [
      "<class 'pandas.core.frame.DataFrame'>\n",
      "RangeIndex: 104825 entries, 0 to 104824\n",
      "Data columns (total 4 columns):\n",
      " #   Column        Non-Null Count   Dtype  \n",
      "---  ------        --------------   -----  \n",
      " 0   id            104825 non-null  object \n",
      " 1   user_id       104825 non-null  int64  \n",
      " 2   session_date  104825 non-null  object \n",
      " 3   mb_used       104825 non-null  float64\n",
      "dtypes: float64(1), int64(1), object(2)\n",
      "memory usage: 3.2+ MB\n"
     ]
    },
    {
     "data": {
      "text/plain": [
       "None"
      ]
     },
     "metadata": {},
     "output_type": "display_data"
    }
   ],
   "source": [
    "# Print the general/summary information about the internet DataFrame\n",
    "display(internet_df.info())\n"
   ]
  },
  {
   "cell_type": "code",
   "execution_count": 19,
   "metadata": {},
   "outputs": [
    {
     "data": {
      "text/html": [
       "<div>\n",
       "<style scoped>\n",
       "    .dataframe tbody tr th:only-of-type {\n",
       "        vertical-align: middle;\n",
       "    }\n",
       "\n",
       "    .dataframe tbody tr th {\n",
       "        vertical-align: top;\n",
       "    }\n",
       "\n",
       "    .dataframe thead th {\n",
       "        text-align: right;\n",
       "    }\n",
       "</style>\n",
       "<table border=\"1\" class=\"dataframe\">\n",
       "  <thead>\n",
       "    <tr style=\"text-align: right;\">\n",
       "      <th></th>\n",
       "      <th>id</th>\n",
       "      <th>user_id</th>\n",
       "      <th>session_date</th>\n",
       "      <th>mb_used</th>\n",
       "    </tr>\n",
       "  </thead>\n",
       "  <tbody>\n",
       "    <tr>\n",
       "      <th>53658</th>\n",
       "      <td>1242_69</td>\n",
       "      <td>1242</td>\n",
       "      <td>2018-10-22</td>\n",
       "      <td>0.00</td>\n",
       "    </tr>\n",
       "    <tr>\n",
       "      <th>27743</th>\n",
       "      <td>1127_546</td>\n",
       "      <td>1127</td>\n",
       "      <td>2018-12-02</td>\n",
       "      <td>494.74</td>\n",
       "    </tr>\n",
       "    <tr>\n",
       "      <th>34814</th>\n",
       "      <td>1156_411</td>\n",
       "      <td>1156</td>\n",
       "      <td>2018-07-05</td>\n",
       "      <td>253.67</td>\n",
       "    </tr>\n",
       "    <tr>\n",
       "      <th>93908</th>\n",
       "      <td>1438_150</td>\n",
       "      <td>1438</td>\n",
       "      <td>2018-10-28</td>\n",
       "      <td>505.83</td>\n",
       "    </tr>\n",
       "    <tr>\n",
       "      <th>26851</th>\n",
       "      <td>1123_346</td>\n",
       "      <td>1123</td>\n",
       "      <td>2018-08-13</td>\n",
       "      <td>141.23</td>\n",
       "    </tr>\n",
       "    <tr>\n",
       "      <th>63927</th>\n",
       "      <td>1293_367</td>\n",
       "      <td>1293</td>\n",
       "      <td>2018-08-25</td>\n",
       "      <td>335.20</td>\n",
       "    </tr>\n",
       "    <tr>\n",
       "      <th>71997</th>\n",
       "      <td>1335_237</td>\n",
       "      <td>1335</td>\n",
       "      <td>2018-11-03</td>\n",
       "      <td>189.28</td>\n",
       "    </tr>\n",
       "    <tr>\n",
       "      <th>94331</th>\n",
       "      <td>1439_384</td>\n",
       "      <td>1439</td>\n",
       "      <td>2018-09-23</td>\n",
       "      <td>631.98</td>\n",
       "    </tr>\n",
       "    <tr>\n",
       "      <th>35779</th>\n",
       "      <td>1160_483</td>\n",
       "      <td>1160</td>\n",
       "      <td>2018-09-01</td>\n",
       "      <td>0.00</td>\n",
       "    </tr>\n",
       "    <tr>\n",
       "      <th>53708</th>\n",
       "      <td>1243_10</td>\n",
       "      <td>1243</td>\n",
       "      <td>2018-10-26</td>\n",
       "      <td>0.00</td>\n",
       "    </tr>\n",
       "  </tbody>\n",
       "</table>\n",
       "</div>"
      ],
      "text/plain": [
       "             id  user_id session_date  mb_used\n",
       "53658   1242_69     1242   2018-10-22     0.00\n",
       "27743  1127_546     1127   2018-12-02   494.74\n",
       "34814  1156_411     1156   2018-07-05   253.67\n",
       "93908  1438_150     1438   2018-10-28   505.83\n",
       "26851  1123_346     1123   2018-08-13   141.23\n",
       "63927  1293_367     1293   2018-08-25   335.20\n",
       "71997  1335_237     1335   2018-11-03   189.28\n",
       "94331  1439_384     1439   2018-09-23   631.98\n",
       "35779  1160_483     1160   2018-09-01     0.00\n",
       "53708   1243_10     1243   2018-10-26     0.00"
      ]
     },
     "metadata": {},
     "output_type": "display_data"
    }
   ],
   "source": [
    "# Print a sample of data for the internet traffic\n",
    "display(internet_df.sample(10))\n"
   ]
  },
  {
   "cell_type": "markdown",
   "metadata": {},
   "source": [
    "There are no missing values in the data. The `'session_date'` column in this data frame is categorized as 'object' instead of 'datetime.' Changing the name of the `'id'` column to `'session_id'` will help distinguish which unique identifier we are looking at when we merge any of the data frames with this one."
   ]
  },
  {
   "cell_type": "markdown",
   "metadata": {},
   "source": [
    " "
   ]
  },
  {
   "cell_type": "markdown",
   "metadata": {},
   "source": [
    "### Fix data"
   ]
  },
  {
   "cell_type": "code",
   "execution_count": 20,
   "metadata": {},
   "outputs": [],
   "source": [
    "internet_df['session_date'] = pd.to_datetime(internet_df['session_date'], format = '%Y-%m-%d')"
   ]
  },
  {
   "cell_type": "markdown",
   "metadata": {},
   "source": [
    "### Enrich data"
   ]
  },
  {
   "cell_type": "code",
   "execution_count": 21,
   "metadata": {},
   "outputs": [
    {
     "data": {
      "text/html": [
       "<div>\n",
       "<style scoped>\n",
       "    .dataframe tbody tr th:only-of-type {\n",
       "        vertical-align: middle;\n",
       "    }\n",
       "\n",
       "    .dataframe tbody tr th {\n",
       "        vertical-align: top;\n",
       "    }\n",
       "\n",
       "    .dataframe thead th {\n",
       "        text-align: right;\n",
       "    }\n",
       "</style>\n",
       "<table border=\"1\" class=\"dataframe\">\n",
       "  <thead>\n",
       "    <tr style=\"text-align: right;\">\n",
       "      <th></th>\n",
       "      <th>session_id</th>\n",
       "      <th>user_id</th>\n",
       "      <th>session_date</th>\n",
       "      <th>mb_used</th>\n",
       "    </tr>\n",
       "  </thead>\n",
       "  <tbody>\n",
       "    <tr>\n",
       "      <th>100898</th>\n",
       "      <td>1478_49</td>\n",
       "      <td>1478</td>\n",
       "      <td>2018-12-08</td>\n",
       "      <td>277.01</td>\n",
       "    </tr>\n",
       "    <tr>\n",
       "      <th>96827</th>\n",
       "      <td>1456_86</td>\n",
       "      <td>1456</td>\n",
       "      <td>2018-08-05</td>\n",
       "      <td>236.68</td>\n",
       "    </tr>\n",
       "    <tr>\n",
       "      <th>92160</th>\n",
       "      <td>1428_80</td>\n",
       "      <td>1428</td>\n",
       "      <td>2018-12-07</td>\n",
       "      <td>221.01</td>\n",
       "    </tr>\n",
       "    <tr>\n",
       "      <th>12294</th>\n",
       "      <td>1060_3</td>\n",
       "      <td>1060</td>\n",
       "      <td>2018-12-03</td>\n",
       "      <td>402.08</td>\n",
       "    </tr>\n",
       "    <tr>\n",
       "      <th>2807</th>\n",
       "      <td>1014_55</td>\n",
       "      <td>1014</td>\n",
       "      <td>2018-12-02</td>\n",
       "      <td>337.61</td>\n",
       "    </tr>\n",
       "    <tr>\n",
       "      <th>90165</th>\n",
       "      <td>1415_269</td>\n",
       "      <td>1415</td>\n",
       "      <td>2018-10-06</td>\n",
       "      <td>441.03</td>\n",
       "    </tr>\n",
       "    <tr>\n",
       "      <th>89307</th>\n",
       "      <td>1412_22</td>\n",
       "      <td>1412</td>\n",
       "      <td>2018-07-18</td>\n",
       "      <td>573.89</td>\n",
       "    </tr>\n",
       "    <tr>\n",
       "      <th>19760</th>\n",
       "      <td>1089_40</td>\n",
       "      <td>1089</td>\n",
       "      <td>2018-12-21</td>\n",
       "      <td>544.23</td>\n",
       "    </tr>\n",
       "    <tr>\n",
       "      <th>13705</th>\n",
       "      <td>1064_153</td>\n",
       "      <td>1064</td>\n",
       "      <td>2018-06-22</td>\n",
       "      <td>213.78</td>\n",
       "    </tr>\n",
       "    <tr>\n",
       "      <th>47054</th>\n",
       "      <td>1210_179</td>\n",
       "      <td>1210</td>\n",
       "      <td>2018-08-13</td>\n",
       "      <td>594.89</td>\n",
       "    </tr>\n",
       "  </tbody>\n",
       "</table>\n",
       "</div>"
      ],
      "text/plain": [
       "       session_id  user_id session_date  mb_used\n",
       "100898    1478_49     1478   2018-12-08   277.01\n",
       "96827     1456_86     1456   2018-08-05   236.68\n",
       "92160     1428_80     1428   2018-12-07   221.01\n",
       "12294      1060_3     1060   2018-12-03   402.08\n",
       "2807      1014_55     1014   2018-12-02   337.61\n",
       "90165    1415_269     1415   2018-10-06   441.03\n",
       "89307     1412_22     1412   2018-07-18   573.89\n",
       "19760     1089_40     1089   2018-12-21   544.23\n",
       "13705    1064_153     1064   2018-06-22   213.78\n",
       "47054    1210_179     1210   2018-08-13   594.89"
      ]
     },
     "metadata": {},
     "output_type": "display_data"
    }
   ],
   "source": [
    "internet_df = internet_df.rename(columns = {'id' : 'session_id'})\n",
    "display(internet_df.sample(10))"
   ]
  },
  {
   "cell_type": "markdown",
   "metadata": {},
   "source": [
    "## Study plan conditions"
   ]
  },
  {
   "cell_type": "code",
   "execution_count": 22,
   "metadata": {},
   "outputs": [
    {
     "data": {
      "text/html": [
       "<div>\n",
       "<style scoped>\n",
       "    .dataframe tbody tr th:only-of-type {\n",
       "        vertical-align: middle;\n",
       "    }\n",
       "\n",
       "    .dataframe tbody tr th {\n",
       "        vertical-align: top;\n",
       "    }\n",
       "\n",
       "    .dataframe thead th {\n",
       "        text-align: right;\n",
       "    }\n",
       "</style>\n",
       "<table border=\"1\" class=\"dataframe\">\n",
       "  <thead>\n",
       "    <tr style=\"text-align: right;\">\n",
       "      <th></th>\n",
       "      <th>messages_included</th>\n",
       "      <th>mb_per_month_included</th>\n",
       "      <th>minutes_included</th>\n",
       "      <th>usd_monthly_fee</th>\n",
       "      <th>usd_per_gb</th>\n",
       "      <th>usd_per_message</th>\n",
       "      <th>usd_per_minute</th>\n",
       "      <th>plan_name</th>\n",
       "    </tr>\n",
       "  </thead>\n",
       "  <tbody>\n",
       "    <tr>\n",
       "      <th>0</th>\n",
       "      <td>50</td>\n",
       "      <td>15360</td>\n",
       "      <td>500</td>\n",
       "      <td>20</td>\n",
       "      <td>10</td>\n",
       "      <td>0.03</td>\n",
       "      <td>0.03</td>\n",
       "      <td>surf</td>\n",
       "    </tr>\n",
       "    <tr>\n",
       "      <th>1</th>\n",
       "      <td>1000</td>\n",
       "      <td>30720</td>\n",
       "      <td>3000</td>\n",
       "      <td>70</td>\n",
       "      <td>7</td>\n",
       "      <td>0.01</td>\n",
       "      <td>0.01</td>\n",
       "      <td>ultimate</td>\n",
       "    </tr>\n",
       "  </tbody>\n",
       "</table>\n",
       "</div>"
      ],
      "text/plain": [
       "   messages_included  mb_per_month_included  minutes_included  \\\n",
       "0                 50                  15360               500   \n",
       "1               1000                  30720              3000   \n",
       "\n",
       "   usd_monthly_fee  usd_per_gb  usd_per_message  usd_per_minute plan_name  \n",
       "0               20          10             0.03            0.03      surf  \n",
       "1               70           7             0.01            0.01  ultimate  "
      ]
     },
     "metadata": {},
     "output_type": "display_data"
    }
   ],
   "source": [
    "# Print out the plan conditions and make sure they are clear for you\n",
    "display(plans_df)\n"
   ]
  },
  {
   "cell_type": "markdown",
   "metadata": {},
   "source": [
    "## Aggregate data per user\n",
    "\n",
    "[Now, as the data is clean, aggregate data per user per period in order to have just one record per user per period. It should ease the further analysis a lot.]"
   ]
  },
  {
   "cell_type": "code",
   "execution_count": 23,
   "metadata": {},
   "outputs": [
    {
     "data": {
      "text/html": [
       "<div>\n",
       "<style scoped>\n",
       "    .dataframe tbody tr th:only-of-type {\n",
       "        vertical-align: middle;\n",
       "    }\n",
       "\n",
       "    .dataframe tbody tr th {\n",
       "        vertical-align: top;\n",
       "    }\n",
       "\n",
       "    .dataframe thead th {\n",
       "        text-align: right;\n",
       "    }\n",
       "</style>\n",
       "<table border=\"1\" class=\"dataframe\">\n",
       "  <thead>\n",
       "    <tr style=\"text-align: right;\">\n",
       "      <th></th>\n",
       "      <th>total_calls</th>\n",
       "    </tr>\n",
       "    <tr>\n",
       "      <th>user_id</th>\n",
       "      <th></th>\n",
       "    </tr>\n",
       "  </thead>\n",
       "  <tbody>\n",
       "    <tr>\n",
       "      <th>1000</th>\n",
       "      <td>16</td>\n",
       "    </tr>\n",
       "    <tr>\n",
       "      <th>1001</th>\n",
       "      <td>261</td>\n",
       "    </tr>\n",
       "    <tr>\n",
       "      <th>1002</th>\n",
       "      <td>113</td>\n",
       "    </tr>\n",
       "    <tr>\n",
       "      <th>1003</th>\n",
       "      <td>149</td>\n",
       "    </tr>\n",
       "    <tr>\n",
       "      <th>1004</th>\n",
       "      <td>370</td>\n",
       "    </tr>\n",
       "    <tr>\n",
       "      <th>1005</th>\n",
       "      <td>59</td>\n",
       "    </tr>\n",
       "    <tr>\n",
       "      <th>1006</th>\n",
       "      <td>11</td>\n",
       "    </tr>\n",
       "    <tr>\n",
       "      <th>1007</th>\n",
       "      <td>380</td>\n",
       "    </tr>\n",
       "    <tr>\n",
       "      <th>1008</th>\n",
       "      <td>219</td>\n",
       "    </tr>\n",
       "    <tr>\n",
       "      <th>1009</th>\n",
       "      <td>856</td>\n",
       "    </tr>\n",
       "  </tbody>\n",
       "</table>\n",
       "</div>"
      ],
      "text/plain": [
       "         total_calls\n",
       "user_id             \n",
       "1000              16\n",
       "1001             261\n",
       "1002             113\n",
       "1003             149\n",
       "1004             370\n",
       "1005              59\n",
       "1006              11\n",
       "1007             380\n",
       "1008             219\n",
       "1009             856"
      ]
     },
     "metadata": {},
     "output_type": "display_data"
    },
    {
     "data": {
      "text/html": [
       "<div>\n",
       "<style scoped>\n",
       "    .dataframe tbody tr th:only-of-type {\n",
       "        vertical-align: middle;\n",
       "    }\n",
       "\n",
       "    .dataframe tbody tr th {\n",
       "        vertical-align: top;\n",
       "    }\n",
       "\n",
       "    .dataframe thead th {\n",
       "        text-align: right;\n",
       "    }\n",
       "</style>\n",
       "<table border=\"1\" class=\"dataframe\">\n",
       "  <thead>\n",
       "    <tr style=\"text-align: right;\">\n",
       "      <th></th>\n",
       "      <th></th>\n",
       "      <th>call_id</th>\n",
       "    </tr>\n",
       "    <tr>\n",
       "      <th>user_id</th>\n",
       "      <th>month</th>\n",
       "      <th></th>\n",
       "    </tr>\n",
       "  </thead>\n",
       "  <tbody>\n",
       "    <tr>\n",
       "      <th>1000</th>\n",
       "      <th>12</th>\n",
       "      <td>16</td>\n",
       "    </tr>\n",
       "    <tr>\n",
       "      <th rowspan=\"5\" valign=\"top\">1001</th>\n",
       "      <th>8</th>\n",
       "      <td>27</td>\n",
       "    </tr>\n",
       "    <tr>\n",
       "      <th>9</th>\n",
       "      <td>49</td>\n",
       "    </tr>\n",
       "    <tr>\n",
       "      <th>10</th>\n",
       "      <td>65</td>\n",
       "    </tr>\n",
       "    <tr>\n",
       "      <th>11</th>\n",
       "      <td>64</td>\n",
       "    </tr>\n",
       "    <tr>\n",
       "      <th>12</th>\n",
       "      <td>56</td>\n",
       "    </tr>\n",
       "    <tr>\n",
       "      <th rowspan=\"3\" valign=\"top\">1002</th>\n",
       "      <th>10</th>\n",
       "      <td>11</td>\n",
       "    </tr>\n",
       "    <tr>\n",
       "      <th>11</th>\n",
       "      <td>55</td>\n",
       "    </tr>\n",
       "    <tr>\n",
       "      <th>12</th>\n",
       "      <td>47</td>\n",
       "    </tr>\n",
       "    <tr>\n",
       "      <th>1003</th>\n",
       "      <th>12</th>\n",
       "      <td>149</td>\n",
       "    </tr>\n",
       "  </tbody>\n",
       "</table>\n",
       "</div>"
      ],
      "text/plain": [
       "               call_id\n",
       "user_id month         \n",
       "1000    12          16\n",
       "1001    8           27\n",
       "        9           49\n",
       "        10          65\n",
       "        11          64\n",
       "        12          56\n",
       "1002    10          11\n",
       "        11          55\n",
       "        12          47\n",
       "1003    12         149"
      ]
     },
     "metadata": {},
     "output_type": "display_data"
    }
   ],
   "source": [
    "# Calculate the number of calls made by each user per month. Save the result.\n",
    "call_totals = calls_df.groupby(['user_id']).agg(total_calls = pd.NamedAgg(column = 'user_id', aggfunc = 'count'))\n",
    "display(call_totals.head(10))\n",
    "calls_df['month'] = calls_df['call_date'].dt.month\n",
    "calls_per_month = calls_df.groupby(['user_id', 'month']).agg({'call_id' : 'count'})\n",
    "display(calls_per_month.head(10))\n"
   ]
  },
  {
   "cell_type": "code",
   "execution_count": 24,
   "metadata": {},
   "outputs": [
    {
     "data": {
      "text/plain": [
       "user_id\n",
       "1000     124.0\n",
       "1001    1787.0\n",
       "1002     848.0\n",
       "1003    1135.0\n",
       "1004    2836.0\n",
       "         ...  \n",
       "1495    1810.0\n",
       "1496    1492.0\n",
       "1497     312.0\n",
       "1498    3291.0\n",
       "1499    1568.0\n",
       "Name: duration, Length: 481, dtype: float64"
      ]
     },
     "metadata": {},
     "output_type": "display_data"
    },
    {
     "data": {
      "text/html": [
       "<div>\n",
       "<style scoped>\n",
       "    .dataframe tbody tr th:only-of-type {\n",
       "        vertical-align: middle;\n",
       "    }\n",
       "\n",
       "    .dataframe tbody tr th {\n",
       "        vertical-align: top;\n",
       "    }\n",
       "\n",
       "    .dataframe thead th {\n",
       "        text-align: right;\n",
       "    }\n",
       "</style>\n",
       "<table border=\"1\" class=\"dataframe\">\n",
       "  <thead>\n",
       "    <tr style=\"text-align: right;\">\n",
       "      <th></th>\n",
       "      <th>user_id</th>\n",
       "      <th>month</th>\n",
       "      <th>duration</th>\n",
       "    </tr>\n",
       "  </thead>\n",
       "  <tbody>\n",
       "    <tr>\n",
       "      <th>0</th>\n",
       "      <td>1000</td>\n",
       "      <td>8.0</td>\n",
       "      <td>3.0</td>\n",
       "    </tr>\n",
       "    <tr>\n",
       "      <th>1</th>\n",
       "      <td>1000</td>\n",
       "      <td>9.0</td>\n",
       "      <td>25.0</td>\n",
       "    </tr>\n",
       "    <tr>\n",
       "      <th>2</th>\n",
       "      <td>1000</td>\n",
       "      <td>10.0</td>\n",
       "      <td>9.0</td>\n",
       "    </tr>\n",
       "    <tr>\n",
       "      <th>3</th>\n",
       "      <td>1000</td>\n",
       "      <td>11.0</td>\n",
       "      <td>21.0</td>\n",
       "    </tr>\n",
       "    <tr>\n",
       "      <th>4</th>\n",
       "      <td>1000</td>\n",
       "      <td>12.0</td>\n",
       "      <td>66.0</td>\n",
       "    </tr>\n",
       "    <tr>\n",
       "      <th>5</th>\n",
       "      <td>1001</td>\n",
       "      <td>8.0</td>\n",
       "      <td>199.0</td>\n",
       "    </tr>\n",
       "    <tr>\n",
       "      <th>6</th>\n",
       "      <td>1001</td>\n",
       "      <td>9.0</td>\n",
       "      <td>396.0</td>\n",
       "    </tr>\n",
       "    <tr>\n",
       "      <th>7</th>\n",
       "      <td>1001</td>\n",
       "      <td>10.0</td>\n",
       "      <td>396.0</td>\n",
       "    </tr>\n",
       "    <tr>\n",
       "      <th>8</th>\n",
       "      <td>1001</td>\n",
       "      <td>11.0</td>\n",
       "      <td>381.0</td>\n",
       "    </tr>\n",
       "    <tr>\n",
       "      <th>9</th>\n",
       "      <td>1001</td>\n",
       "      <td>12.0</td>\n",
       "      <td>415.0</td>\n",
       "    </tr>\n",
       "  </tbody>\n",
       "</table>\n",
       "</div>"
      ],
      "text/plain": [
       "   user_id  month  duration\n",
       "0     1000    8.0       3.0\n",
       "1     1000    9.0      25.0\n",
       "2     1000   10.0       9.0\n",
       "3     1000   11.0      21.0\n",
       "4     1000   12.0      66.0\n",
       "5     1001    8.0     199.0\n",
       "6     1001    9.0     396.0\n",
       "7     1001   10.0     396.0\n",
       "8     1001   11.0     381.0\n",
       "9     1001   12.0     415.0"
      ]
     },
     "metadata": {},
     "output_type": "display_data"
    }
   ],
   "source": [
    "# Calculate the amount of minutes spent by each user per month. Save the result.\n",
    "total_call_minutes = calls_df.groupby('user_id')['duration'].sum()\n",
    "display(total_call_minutes)\n",
    "calls_df['month'] = internet_df['session_date'].dt.month\n",
    "call_minutes_per_month = calls_df.groupby(['user_id', 'month']).agg({'duration' : 'sum'}).reset_index()\n",
    "display(call_minutes_per_month.head(10))\n"
   ]
  },
  {
   "cell_type": "code",
   "execution_count": 25,
   "metadata": {},
   "outputs": [
    {
     "data": {
      "text/html": [
       "<div>\n",
       "<style scoped>\n",
       "    .dataframe tbody tr th:only-of-type {\n",
       "        vertical-align: middle;\n",
       "    }\n",
       "\n",
       "    .dataframe tbody tr th {\n",
       "        vertical-align: top;\n",
       "    }\n",
       "\n",
       "    .dataframe thead th {\n",
       "        text-align: right;\n",
       "    }\n",
       "</style>\n",
       "<table border=\"1\" class=\"dataframe\">\n",
       "  <thead>\n",
       "    <tr style=\"text-align: right;\">\n",
       "      <th></th>\n",
       "      <th>total_messages</th>\n",
       "    </tr>\n",
       "    <tr>\n",
       "      <th>user_id</th>\n",
       "      <th></th>\n",
       "    </tr>\n",
       "  </thead>\n",
       "  <tbody>\n",
       "    <tr>\n",
       "      <th>1000</th>\n",
       "      <td>11</td>\n",
       "    </tr>\n",
       "    <tr>\n",
       "      <th>1001</th>\n",
       "      <td>207</td>\n",
       "    </tr>\n",
       "    <tr>\n",
       "      <th>1002</th>\n",
       "      <td>88</td>\n",
       "    </tr>\n",
       "    <tr>\n",
       "      <th>1003</th>\n",
       "      <td>50</td>\n",
       "    </tr>\n",
       "    <tr>\n",
       "      <th>1004</th>\n",
       "      <td>177</td>\n",
       "    </tr>\n",
       "    <tr>\n",
       "      <th>1005</th>\n",
       "      <td>11</td>\n",
       "    </tr>\n",
       "    <tr>\n",
       "      <th>1006</th>\n",
       "      <td>154</td>\n",
       "    </tr>\n",
       "    <tr>\n",
       "      <th>1007</th>\n",
       "      <td>255</td>\n",
       "    </tr>\n",
       "    <tr>\n",
       "      <th>1008</th>\n",
       "      <td>84</td>\n",
       "    </tr>\n",
       "    <tr>\n",
       "      <th>1011</th>\n",
       "      <td>371</td>\n",
       "    </tr>\n",
       "  </tbody>\n",
       "</table>\n",
       "</div>"
      ],
      "text/plain": [
       "         total_messages\n",
       "user_id                \n",
       "1000                 11\n",
       "1001                207\n",
       "1002                 88\n",
       "1003                 50\n",
       "1004                177\n",
       "1005                 11\n",
       "1006                154\n",
       "1007                255\n",
       "1008                 84\n",
       "1011                371"
      ]
     },
     "metadata": {},
     "output_type": "display_data"
    },
    {
     "data": {
      "text/html": [
       "<div>\n",
       "<style scoped>\n",
       "    .dataframe tbody tr th:only-of-type {\n",
       "        vertical-align: middle;\n",
       "    }\n",
       "\n",
       "    .dataframe tbody tr th {\n",
       "        vertical-align: top;\n",
       "    }\n",
       "\n",
       "    .dataframe thead th {\n",
       "        text-align: right;\n",
       "    }\n",
       "</style>\n",
       "<table border=\"1\" class=\"dataframe\">\n",
       "  <thead>\n",
       "    <tr style=\"text-align: right;\">\n",
       "      <th></th>\n",
       "      <th>user_id</th>\n",
       "      <th>month</th>\n",
       "      <th>message_id</th>\n",
       "    </tr>\n",
       "  </thead>\n",
       "  <tbody>\n",
       "    <tr>\n",
       "      <th>0</th>\n",
       "      <td>1000</td>\n",
       "      <td>12</td>\n",
       "      <td>11</td>\n",
       "    </tr>\n",
       "    <tr>\n",
       "      <th>1</th>\n",
       "      <td>1001</td>\n",
       "      <td>8</td>\n",
       "      <td>30</td>\n",
       "    </tr>\n",
       "    <tr>\n",
       "      <th>2</th>\n",
       "      <td>1001</td>\n",
       "      <td>9</td>\n",
       "      <td>44</td>\n",
       "    </tr>\n",
       "    <tr>\n",
       "      <th>3</th>\n",
       "      <td>1001</td>\n",
       "      <td>10</td>\n",
       "      <td>53</td>\n",
       "    </tr>\n",
       "    <tr>\n",
       "      <th>4</th>\n",
       "      <td>1001</td>\n",
       "      <td>11</td>\n",
       "      <td>36</td>\n",
       "    </tr>\n",
       "    <tr>\n",
       "      <th>5</th>\n",
       "      <td>1001</td>\n",
       "      <td>12</td>\n",
       "      <td>44</td>\n",
       "    </tr>\n",
       "    <tr>\n",
       "      <th>6</th>\n",
       "      <td>1002</td>\n",
       "      <td>10</td>\n",
       "      <td>15</td>\n",
       "    </tr>\n",
       "    <tr>\n",
       "      <th>7</th>\n",
       "      <td>1002</td>\n",
       "      <td>11</td>\n",
       "      <td>32</td>\n",
       "    </tr>\n",
       "    <tr>\n",
       "      <th>8</th>\n",
       "      <td>1002</td>\n",
       "      <td>12</td>\n",
       "      <td>41</td>\n",
       "    </tr>\n",
       "    <tr>\n",
       "      <th>9</th>\n",
       "      <td>1003</td>\n",
       "      <td>12</td>\n",
       "      <td>50</td>\n",
       "    </tr>\n",
       "  </tbody>\n",
       "</table>\n",
       "</div>"
      ],
      "text/plain": [
       "   user_id  month  message_id\n",
       "0     1000     12          11\n",
       "1     1001      8          30\n",
       "2     1001      9          44\n",
       "3     1001     10          53\n",
       "4     1001     11          36\n",
       "5     1001     12          44\n",
       "6     1002     10          15\n",
       "7     1002     11          32\n",
       "8     1002     12          41\n",
       "9     1003     12          50"
      ]
     },
     "metadata": {},
     "output_type": "display_data"
    }
   ],
   "source": [
    "# Calculate the number of messages sent by each user per month. Save the result.\n",
    "message_totals = messages_df.groupby(['user_id']).agg(total_messages = pd.NamedAgg(column = 'user_id', aggfunc = 'count'))\n",
    "display(message_totals.head(10))\n",
    "messages_df['month'] = messages_df['message_date'].dt.month\n",
    "messages_per_month = messages_df.groupby(['user_id', 'month']).agg({'message_id' : 'count'}).reset_index()\n",
    "display(messages_per_month.head(10))\n"
   ]
  },
  {
   "cell_type": "code",
   "execution_count": 26,
   "metadata": {},
   "outputs": [
    {
     "data": {
      "text/html": [
       "<div>\n",
       "<style scoped>\n",
       "    .dataframe tbody tr th:only-of-type {\n",
       "        vertical-align: middle;\n",
       "    }\n",
       "\n",
       "    .dataframe tbody tr th {\n",
       "        vertical-align: top;\n",
       "    }\n",
       "\n",
       "    .dataframe thead th {\n",
       "        text-align: right;\n",
       "    }\n",
       "</style>\n",
       "<table border=\"1\" class=\"dataframe\">\n",
       "  <thead>\n",
       "    <tr style=\"text-align: right;\">\n",
       "      <th></th>\n",
       "      <th>user_id</th>\n",
       "      <th>month</th>\n",
       "      <th>mb_used</th>\n",
       "    </tr>\n",
       "  </thead>\n",
       "  <tbody>\n",
       "    <tr>\n",
       "      <th>0</th>\n",
       "      <td>1000</td>\n",
       "      <td>12</td>\n",
       "      <td>1901.47</td>\n",
       "    </tr>\n",
       "    <tr>\n",
       "      <th>1</th>\n",
       "      <td>1001</td>\n",
       "      <td>8</td>\n",
       "      <td>6919.15</td>\n",
       "    </tr>\n",
       "    <tr>\n",
       "      <th>2</th>\n",
       "      <td>1001</td>\n",
       "      <td>9</td>\n",
       "      <td>13314.82</td>\n",
       "    </tr>\n",
       "    <tr>\n",
       "      <th>3</th>\n",
       "      <td>1001</td>\n",
       "      <td>10</td>\n",
       "      <td>22330.49</td>\n",
       "    </tr>\n",
       "    <tr>\n",
       "      <th>4</th>\n",
       "      <td>1001</td>\n",
       "      <td>11</td>\n",
       "      <td>18504.30</td>\n",
       "    </tr>\n",
       "    <tr>\n",
       "      <th>5</th>\n",
       "      <td>1001</td>\n",
       "      <td>12</td>\n",
       "      <td>19369.18</td>\n",
       "    </tr>\n",
       "    <tr>\n",
       "      <th>6</th>\n",
       "      <td>1002</td>\n",
       "      <td>10</td>\n",
       "      <td>6552.01</td>\n",
       "    </tr>\n",
       "    <tr>\n",
       "      <th>7</th>\n",
       "      <td>1002</td>\n",
       "      <td>11</td>\n",
       "      <td>19345.08</td>\n",
       "    </tr>\n",
       "    <tr>\n",
       "      <th>8</th>\n",
       "      <td>1002</td>\n",
       "      <td>12</td>\n",
       "      <td>14396.24</td>\n",
       "    </tr>\n",
       "    <tr>\n",
       "      <th>9</th>\n",
       "      <td>1003</td>\n",
       "      <td>12</td>\n",
       "      <td>27044.14</td>\n",
       "    </tr>\n",
       "  </tbody>\n",
       "</table>\n",
       "</div>"
      ],
      "text/plain": [
       "   user_id  month   mb_used\n",
       "0     1000     12   1901.47\n",
       "1     1001      8   6919.15\n",
       "2     1001      9  13314.82\n",
       "3     1001     10  22330.49\n",
       "4     1001     11  18504.30\n",
       "5     1001     12  19369.18\n",
       "6     1002     10   6552.01\n",
       "7     1002     11  19345.08\n",
       "8     1002     12  14396.24\n",
       "9     1003     12  27044.14"
      ]
     },
     "metadata": {},
     "output_type": "display_data"
    }
   ],
   "source": [
    "# Calculate the volume of internet traffic used by each user per month. Save the result.\n",
    "internet_df['month'] = internet_df['session_date'].dt.month\n",
    "traffic_per_month = internet_df.groupby(['user_id', 'month']).agg({'mb_used' : 'sum'}).reset_index()\n",
    "display(traffic_per_month.head(10))\n"
   ]
  },
  {
   "cell_type": "code",
   "execution_count": 47,
   "metadata": {},
   "outputs": [
    {
     "data": {
      "text/html": [
       "<div>\n",
       "<style scoped>\n",
       "    .dataframe tbody tr th:only-of-type {\n",
       "        vertical-align: middle;\n",
       "    }\n",
       "\n",
       "    .dataframe tbody tr th {\n",
       "        vertical-align: top;\n",
       "    }\n",
       "\n",
       "    .dataframe thead th {\n",
       "        text-align: right;\n",
       "    }\n",
       "</style>\n",
       "<table border=\"1\" class=\"dataframe\">\n",
       "  <thead>\n",
       "    <tr style=\"text-align: right;\">\n",
       "      <th></th>\n",
       "      <th>user_id</th>\n",
       "      <th>month</th>\n",
       "      <th>call_id</th>\n",
       "      <th>duration</th>\n",
       "      <th>message_id</th>\n",
       "      <th>mb_used</th>\n",
       "    </tr>\n",
       "  </thead>\n",
       "  <tbody>\n",
       "    <tr>\n",
       "      <th>0</th>\n",
       "      <td>1000</td>\n",
       "      <td>12.0</td>\n",
       "      <td>16.0</td>\n",
       "      <td>66.0</td>\n",
       "      <td>11.0</td>\n",
       "      <td>1901.47</td>\n",
       "    </tr>\n",
       "    <tr>\n",
       "      <th>1</th>\n",
       "      <td>1001</td>\n",
       "      <td>8.0</td>\n",
       "      <td>27.0</td>\n",
       "      <td>199.0</td>\n",
       "      <td>30.0</td>\n",
       "      <td>6919.15</td>\n",
       "    </tr>\n",
       "    <tr>\n",
       "      <th>2</th>\n",
       "      <td>1001</td>\n",
       "      <td>9.0</td>\n",
       "      <td>49.0</td>\n",
       "      <td>396.0</td>\n",
       "      <td>44.0</td>\n",
       "      <td>13314.82</td>\n",
       "    </tr>\n",
       "    <tr>\n",
       "      <th>3</th>\n",
       "      <td>1001</td>\n",
       "      <td>10.0</td>\n",
       "      <td>65.0</td>\n",
       "      <td>396.0</td>\n",
       "      <td>53.0</td>\n",
       "      <td>22330.49</td>\n",
       "    </tr>\n",
       "    <tr>\n",
       "      <th>4</th>\n",
       "      <td>1001</td>\n",
       "      <td>11.0</td>\n",
       "      <td>64.0</td>\n",
       "      <td>381.0</td>\n",
       "      <td>36.0</td>\n",
       "      <td>18504.30</td>\n",
       "    </tr>\n",
       "    <tr>\n",
       "      <th>5</th>\n",
       "      <td>1001</td>\n",
       "      <td>12.0</td>\n",
       "      <td>56.0</td>\n",
       "      <td>415.0</td>\n",
       "      <td>44.0</td>\n",
       "      <td>19369.18</td>\n",
       "    </tr>\n",
       "    <tr>\n",
       "      <th>6</th>\n",
       "      <td>1002</td>\n",
       "      <td>10.0</td>\n",
       "      <td>11.0</td>\n",
       "      <td>120.0</td>\n",
       "      <td>15.0</td>\n",
       "      <td>6552.01</td>\n",
       "    </tr>\n",
       "    <tr>\n",
       "      <th>7</th>\n",
       "      <td>1002</td>\n",
       "      <td>11.0</td>\n",
       "      <td>55.0</td>\n",
       "      <td>250.0</td>\n",
       "      <td>32.0</td>\n",
       "      <td>19345.08</td>\n",
       "    </tr>\n",
       "    <tr>\n",
       "      <th>8</th>\n",
       "      <td>1002</td>\n",
       "      <td>12.0</td>\n",
       "      <td>47.0</td>\n",
       "      <td>478.0</td>\n",
       "      <td>41.0</td>\n",
       "      <td>14396.24</td>\n",
       "    </tr>\n",
       "    <tr>\n",
       "      <th>9</th>\n",
       "      <td>1003</td>\n",
       "      <td>12.0</td>\n",
       "      <td>149.0</td>\n",
       "      <td>332.0</td>\n",
       "      <td>50.0</td>\n",
       "      <td>27044.14</td>\n",
       "    </tr>\n",
       "  </tbody>\n",
       "</table>\n",
       "</div>"
      ],
      "text/plain": [
       "   user_id  month  call_id  duration  message_id   mb_used\n",
       "0     1000   12.0     16.0      66.0        11.0   1901.47\n",
       "1     1001    8.0     27.0     199.0        30.0   6919.15\n",
       "2     1001    9.0     49.0     396.0        44.0  13314.82\n",
       "3     1001   10.0     65.0     396.0        53.0  22330.49\n",
       "4     1001   11.0     64.0     381.0        36.0  18504.30\n",
       "5     1001   12.0     56.0     415.0        44.0  19369.18\n",
       "6     1002   10.0     11.0     120.0        15.0   6552.01\n",
       "7     1002   11.0     55.0     250.0        32.0  19345.08\n",
       "8     1002   12.0     47.0     478.0        41.0  14396.24\n",
       "9     1003   12.0    149.0     332.0        50.0  27044.14"
      ]
     },
     "metadata": {},
     "output_type": "display_data"
    }
   ],
   "source": [
    "# Merge the data for calls, minutes, messages, internet based on user_id and month\n",
    "merged_df = calls_per_month.merge(call_minutes_per_month, on=['user_id', 'month'], how='outer').merge(messages_per_month, on=['user_id', 'month'], how='outer').merge(traffic_per_month, on=['user_id', 'month'], how='outer')\n",
    "display(merged_df.head(10))\n"
   ]
  },
  {
   "cell_type": "code",
   "execution_count": 28,
   "metadata": {},
   "outputs": [
    {
     "data": {
      "text/html": [
       "<div>\n",
       "<style scoped>\n",
       "    .dataframe tbody tr th:only-of-type {\n",
       "        vertical-align: middle;\n",
       "    }\n",
       "\n",
       "    .dataframe tbody tr th {\n",
       "        vertical-align: top;\n",
       "    }\n",
       "\n",
       "    .dataframe thead th {\n",
       "        text-align: right;\n",
       "    }\n",
       "</style>\n",
       "<table border=\"1\" class=\"dataframe\">\n",
       "  <thead>\n",
       "    <tr style=\"text-align: right;\">\n",
       "      <th></th>\n",
       "      <th>user_id</th>\n",
       "      <th>month</th>\n",
       "      <th>call_id</th>\n",
       "      <th>duration</th>\n",
       "      <th>message_id</th>\n",
       "      <th>mb_used</th>\n",
       "      <th>first_name</th>\n",
       "      <th>last_name</th>\n",
       "      <th>age</th>\n",
       "      <th>city</th>\n",
       "      <th>reg_date</th>\n",
       "      <th>plan_name</th>\n",
       "      <th>churn_date</th>\n",
       "    </tr>\n",
       "  </thead>\n",
       "  <tbody>\n",
       "    <tr>\n",
       "      <th>0</th>\n",
       "      <td>1000</td>\n",
       "      <td>12.0</td>\n",
       "      <td>16.0</td>\n",
       "      <td>66.0</td>\n",
       "      <td>11.0</td>\n",
       "      <td>1901.47</td>\n",
       "      <td>Anamaria</td>\n",
       "      <td>Bauer</td>\n",
       "      <td>45</td>\n",
       "      <td>Atlanta-Sandy Springs-Roswell, GA MSA</td>\n",
       "      <td>2018-12-24</td>\n",
       "      <td>ultimate</td>\n",
       "      <td>Active</td>\n",
       "    </tr>\n",
       "    <tr>\n",
       "      <th>1</th>\n",
       "      <td>1000</td>\n",
       "      <td>8.0</td>\n",
       "      <td>NaN</td>\n",
       "      <td>3.0</td>\n",
       "      <td>NaN</td>\n",
       "      <td>NaN</td>\n",
       "      <td>Anamaria</td>\n",
       "      <td>Bauer</td>\n",
       "      <td>45</td>\n",
       "      <td>Atlanta-Sandy Springs-Roswell, GA MSA</td>\n",
       "      <td>2018-12-24</td>\n",
       "      <td>ultimate</td>\n",
       "      <td>Active</td>\n",
       "    </tr>\n",
       "    <tr>\n",
       "      <th>2</th>\n",
       "      <td>1000</td>\n",
       "      <td>9.0</td>\n",
       "      <td>NaN</td>\n",
       "      <td>25.0</td>\n",
       "      <td>NaN</td>\n",
       "      <td>NaN</td>\n",
       "      <td>Anamaria</td>\n",
       "      <td>Bauer</td>\n",
       "      <td>45</td>\n",
       "      <td>Atlanta-Sandy Springs-Roswell, GA MSA</td>\n",
       "      <td>2018-12-24</td>\n",
       "      <td>ultimate</td>\n",
       "      <td>Active</td>\n",
       "    </tr>\n",
       "    <tr>\n",
       "      <th>3</th>\n",
       "      <td>1000</td>\n",
       "      <td>10.0</td>\n",
       "      <td>NaN</td>\n",
       "      <td>9.0</td>\n",
       "      <td>NaN</td>\n",
       "      <td>NaN</td>\n",
       "      <td>Anamaria</td>\n",
       "      <td>Bauer</td>\n",
       "      <td>45</td>\n",
       "      <td>Atlanta-Sandy Springs-Roswell, GA MSA</td>\n",
       "      <td>2018-12-24</td>\n",
       "      <td>ultimate</td>\n",
       "      <td>Active</td>\n",
       "    </tr>\n",
       "    <tr>\n",
       "      <th>4</th>\n",
       "      <td>1000</td>\n",
       "      <td>11.0</td>\n",
       "      <td>NaN</td>\n",
       "      <td>21.0</td>\n",
       "      <td>NaN</td>\n",
       "      <td>NaN</td>\n",
       "      <td>Anamaria</td>\n",
       "      <td>Bauer</td>\n",
       "      <td>45</td>\n",
       "      <td>Atlanta-Sandy Springs-Roswell, GA MSA</td>\n",
       "      <td>2018-12-24</td>\n",
       "      <td>ultimate</td>\n",
       "      <td>Active</td>\n",
       "    </tr>\n",
       "    <tr>\n",
       "      <th>5</th>\n",
       "      <td>1001</td>\n",
       "      <td>8.0</td>\n",
       "      <td>27.0</td>\n",
       "      <td>199.0</td>\n",
       "      <td>30.0</td>\n",
       "      <td>6919.15</td>\n",
       "      <td>Mickey</td>\n",
       "      <td>Wilkerson</td>\n",
       "      <td>28</td>\n",
       "      <td>Seattle-Tacoma-Bellevue, WA MSA</td>\n",
       "      <td>2018-08-13</td>\n",
       "      <td>surf</td>\n",
       "      <td>Active</td>\n",
       "    </tr>\n",
       "    <tr>\n",
       "      <th>6</th>\n",
       "      <td>1001</td>\n",
       "      <td>9.0</td>\n",
       "      <td>49.0</td>\n",
       "      <td>396.0</td>\n",
       "      <td>44.0</td>\n",
       "      <td>13314.82</td>\n",
       "      <td>Mickey</td>\n",
       "      <td>Wilkerson</td>\n",
       "      <td>28</td>\n",
       "      <td>Seattle-Tacoma-Bellevue, WA MSA</td>\n",
       "      <td>2018-08-13</td>\n",
       "      <td>surf</td>\n",
       "      <td>Active</td>\n",
       "    </tr>\n",
       "    <tr>\n",
       "      <th>7</th>\n",
       "      <td>1001</td>\n",
       "      <td>10.0</td>\n",
       "      <td>65.0</td>\n",
       "      <td>396.0</td>\n",
       "      <td>53.0</td>\n",
       "      <td>22330.49</td>\n",
       "      <td>Mickey</td>\n",
       "      <td>Wilkerson</td>\n",
       "      <td>28</td>\n",
       "      <td>Seattle-Tacoma-Bellevue, WA MSA</td>\n",
       "      <td>2018-08-13</td>\n",
       "      <td>surf</td>\n",
       "      <td>Active</td>\n",
       "    </tr>\n",
       "    <tr>\n",
       "      <th>8</th>\n",
       "      <td>1001</td>\n",
       "      <td>11.0</td>\n",
       "      <td>64.0</td>\n",
       "      <td>381.0</td>\n",
       "      <td>36.0</td>\n",
       "      <td>18504.30</td>\n",
       "      <td>Mickey</td>\n",
       "      <td>Wilkerson</td>\n",
       "      <td>28</td>\n",
       "      <td>Seattle-Tacoma-Bellevue, WA MSA</td>\n",
       "      <td>2018-08-13</td>\n",
       "      <td>surf</td>\n",
       "      <td>Active</td>\n",
       "    </tr>\n",
       "    <tr>\n",
       "      <th>9</th>\n",
       "      <td>1001</td>\n",
       "      <td>12.0</td>\n",
       "      <td>56.0</td>\n",
       "      <td>415.0</td>\n",
       "      <td>44.0</td>\n",
       "      <td>19369.18</td>\n",
       "      <td>Mickey</td>\n",
       "      <td>Wilkerson</td>\n",
       "      <td>28</td>\n",
       "      <td>Seattle-Tacoma-Bellevue, WA MSA</td>\n",
       "      <td>2018-08-13</td>\n",
       "      <td>surf</td>\n",
       "      <td>Active</td>\n",
       "    </tr>\n",
       "  </tbody>\n",
       "</table>\n",
       "</div>"
      ],
      "text/plain": [
       "   user_id  month  call_id  duration  message_id   mb_used first_name  \\\n",
       "0     1000   12.0     16.0      66.0        11.0   1901.47   Anamaria   \n",
       "1     1000    8.0      NaN       3.0         NaN       NaN   Anamaria   \n",
       "2     1000    9.0      NaN      25.0         NaN       NaN   Anamaria   \n",
       "3     1000   10.0      NaN       9.0         NaN       NaN   Anamaria   \n",
       "4     1000   11.0      NaN      21.0         NaN       NaN   Anamaria   \n",
       "5     1001    8.0     27.0     199.0        30.0   6919.15     Mickey   \n",
       "6     1001    9.0     49.0     396.0        44.0  13314.82     Mickey   \n",
       "7     1001   10.0     65.0     396.0        53.0  22330.49     Mickey   \n",
       "8     1001   11.0     64.0     381.0        36.0  18504.30     Mickey   \n",
       "9     1001   12.0     56.0     415.0        44.0  19369.18     Mickey   \n",
       "\n",
       "   last_name  age                                   city   reg_date plan_name  \\\n",
       "0      Bauer   45  Atlanta-Sandy Springs-Roswell, GA MSA 2018-12-24  ultimate   \n",
       "1      Bauer   45  Atlanta-Sandy Springs-Roswell, GA MSA 2018-12-24  ultimate   \n",
       "2      Bauer   45  Atlanta-Sandy Springs-Roswell, GA MSA 2018-12-24  ultimate   \n",
       "3      Bauer   45  Atlanta-Sandy Springs-Roswell, GA MSA 2018-12-24  ultimate   \n",
       "4      Bauer   45  Atlanta-Sandy Springs-Roswell, GA MSA 2018-12-24  ultimate   \n",
       "5  Wilkerson   28        Seattle-Tacoma-Bellevue, WA MSA 2018-08-13      surf   \n",
       "6  Wilkerson   28        Seattle-Tacoma-Bellevue, WA MSA 2018-08-13      surf   \n",
       "7  Wilkerson   28        Seattle-Tacoma-Bellevue, WA MSA 2018-08-13      surf   \n",
       "8  Wilkerson   28        Seattle-Tacoma-Bellevue, WA MSA 2018-08-13      surf   \n",
       "9  Wilkerson   28        Seattle-Tacoma-Bellevue, WA MSA 2018-08-13      surf   \n",
       "\n",
       "  churn_date  \n",
       "0     Active  \n",
       "1     Active  \n",
       "2     Active  \n",
       "3     Active  \n",
       "4     Active  \n",
       "5     Active  \n",
       "6     Active  \n",
       "7     Active  \n",
       "8     Active  \n",
       "9     Active  "
      ]
     },
     "metadata": {},
     "output_type": "display_data"
    },
    {
     "data": {
      "text/html": [
       "<div>\n",
       "<style scoped>\n",
       "    .dataframe tbody tr th:only-of-type {\n",
       "        vertical-align: middle;\n",
       "    }\n",
       "\n",
       "    .dataframe tbody tr th {\n",
       "        vertical-align: top;\n",
       "    }\n",
       "\n",
       "    .dataframe thead th {\n",
       "        text-align: right;\n",
       "    }\n",
       "</style>\n",
       "<table border=\"1\" class=\"dataframe\">\n",
       "  <thead>\n",
       "    <tr style=\"text-align: right;\">\n",
       "      <th></th>\n",
       "      <th>user_id</th>\n",
       "      <th>month</th>\n",
       "      <th>call_id</th>\n",
       "      <th>duration</th>\n",
       "      <th>message_id</th>\n",
       "      <th>mb_used</th>\n",
       "      <th>first_name</th>\n",
       "      <th>last_name</th>\n",
       "      <th>age</th>\n",
       "      <th>city</th>\n",
       "      <th>reg_date</th>\n",
       "      <th>plan_name</th>\n",
       "      <th>churn_date</th>\n",
       "      <th>messages_included</th>\n",
       "      <th>mb_per_month_included</th>\n",
       "      <th>minutes_included</th>\n",
       "      <th>usd_monthly_fee</th>\n",
       "      <th>usd_per_gb</th>\n",
       "      <th>usd_per_message</th>\n",
       "      <th>usd_per_minute</th>\n",
       "    </tr>\n",
       "  </thead>\n",
       "  <tbody>\n",
       "    <tr>\n",
       "      <th>0</th>\n",
       "      <td>1000</td>\n",
       "      <td>12.0</td>\n",
       "      <td>16.0</td>\n",
       "      <td>66.0</td>\n",
       "      <td>11.0</td>\n",
       "      <td>1901.47</td>\n",
       "      <td>Anamaria</td>\n",
       "      <td>Bauer</td>\n",
       "      <td>45</td>\n",
       "      <td>Atlanta-Sandy Springs-Roswell, GA MSA</td>\n",
       "      <td>2018-12-24</td>\n",
       "      <td>ultimate</td>\n",
       "      <td>Active</td>\n",
       "      <td>1000</td>\n",
       "      <td>30720</td>\n",
       "      <td>3000</td>\n",
       "      <td>70</td>\n",
       "      <td>7</td>\n",
       "      <td>0.01</td>\n",
       "      <td>0.01</td>\n",
       "    </tr>\n",
       "    <tr>\n",
       "      <th>1</th>\n",
       "      <td>1000</td>\n",
       "      <td>8.0</td>\n",
       "      <td>0.0</td>\n",
       "      <td>3.0</td>\n",
       "      <td>0.0</td>\n",
       "      <td>0.00</td>\n",
       "      <td>Anamaria</td>\n",
       "      <td>Bauer</td>\n",
       "      <td>45</td>\n",
       "      <td>Atlanta-Sandy Springs-Roswell, GA MSA</td>\n",
       "      <td>2018-12-24</td>\n",
       "      <td>ultimate</td>\n",
       "      <td>Active</td>\n",
       "      <td>1000</td>\n",
       "      <td>30720</td>\n",
       "      <td>3000</td>\n",
       "      <td>70</td>\n",
       "      <td>7</td>\n",
       "      <td>0.01</td>\n",
       "      <td>0.01</td>\n",
       "    </tr>\n",
       "    <tr>\n",
       "      <th>2</th>\n",
       "      <td>1000</td>\n",
       "      <td>9.0</td>\n",
       "      <td>0.0</td>\n",
       "      <td>25.0</td>\n",
       "      <td>0.0</td>\n",
       "      <td>0.00</td>\n",
       "      <td>Anamaria</td>\n",
       "      <td>Bauer</td>\n",
       "      <td>45</td>\n",
       "      <td>Atlanta-Sandy Springs-Roswell, GA MSA</td>\n",
       "      <td>2018-12-24</td>\n",
       "      <td>ultimate</td>\n",
       "      <td>Active</td>\n",
       "      <td>1000</td>\n",
       "      <td>30720</td>\n",
       "      <td>3000</td>\n",
       "      <td>70</td>\n",
       "      <td>7</td>\n",
       "      <td>0.01</td>\n",
       "      <td>0.01</td>\n",
       "    </tr>\n",
       "    <tr>\n",
       "      <th>3</th>\n",
       "      <td>1000</td>\n",
       "      <td>10.0</td>\n",
       "      <td>0.0</td>\n",
       "      <td>9.0</td>\n",
       "      <td>0.0</td>\n",
       "      <td>0.00</td>\n",
       "      <td>Anamaria</td>\n",
       "      <td>Bauer</td>\n",
       "      <td>45</td>\n",
       "      <td>Atlanta-Sandy Springs-Roswell, GA MSA</td>\n",
       "      <td>2018-12-24</td>\n",
       "      <td>ultimate</td>\n",
       "      <td>Active</td>\n",
       "      <td>1000</td>\n",
       "      <td>30720</td>\n",
       "      <td>3000</td>\n",
       "      <td>70</td>\n",
       "      <td>7</td>\n",
       "      <td>0.01</td>\n",
       "      <td>0.01</td>\n",
       "    </tr>\n",
       "    <tr>\n",
       "      <th>4</th>\n",
       "      <td>1000</td>\n",
       "      <td>11.0</td>\n",
       "      <td>0.0</td>\n",
       "      <td>21.0</td>\n",
       "      <td>0.0</td>\n",
       "      <td>0.00</td>\n",
       "      <td>Anamaria</td>\n",
       "      <td>Bauer</td>\n",
       "      <td>45</td>\n",
       "      <td>Atlanta-Sandy Springs-Roswell, GA MSA</td>\n",
       "      <td>2018-12-24</td>\n",
       "      <td>ultimate</td>\n",
       "      <td>Active</td>\n",
       "      <td>1000</td>\n",
       "      <td>30720</td>\n",
       "      <td>3000</td>\n",
       "      <td>70</td>\n",
       "      <td>7</td>\n",
       "      <td>0.01</td>\n",
       "      <td>0.01</td>\n",
       "    </tr>\n",
       "    <tr>\n",
       "      <th>5</th>\n",
       "      <td>1006</td>\n",
       "      <td>11.0</td>\n",
       "      <td>2.0</td>\n",
       "      <td>NaN</td>\n",
       "      <td>15.0</td>\n",
       "      <td>2068.37</td>\n",
       "      <td>Jesusa</td>\n",
       "      <td>Bradford</td>\n",
       "      <td>73</td>\n",
       "      <td>San Francisco-Oakland-Berkeley, CA MSA</td>\n",
       "      <td>2018-11-27</td>\n",
       "      <td>ultimate</td>\n",
       "      <td>2018-12-18</td>\n",
       "      <td>1000</td>\n",
       "      <td>30720</td>\n",
       "      <td>3000</td>\n",
       "      <td>70</td>\n",
       "      <td>7</td>\n",
       "      <td>0.01</td>\n",
       "      <td>0.01</td>\n",
       "    </tr>\n",
       "    <tr>\n",
       "      <th>6</th>\n",
       "      <td>1006</td>\n",
       "      <td>12.0</td>\n",
       "      <td>9.0</td>\n",
       "      <td>71.0</td>\n",
       "      <td>139.0</td>\n",
       "      <td>32118.82</td>\n",
       "      <td>Jesusa</td>\n",
       "      <td>Bradford</td>\n",
       "      <td>73</td>\n",
       "      <td>San Francisco-Oakland-Berkeley, CA MSA</td>\n",
       "      <td>2018-11-27</td>\n",
       "      <td>ultimate</td>\n",
       "      <td>2018-12-18</td>\n",
       "      <td>1000</td>\n",
       "      <td>30720</td>\n",
       "      <td>3000</td>\n",
       "      <td>70</td>\n",
       "      <td>7</td>\n",
       "      <td>0.01</td>\n",
       "      <td>0.01</td>\n",
       "    </tr>\n",
       "    <tr>\n",
       "      <th>7</th>\n",
       "      <td>1008</td>\n",
       "      <td>10.0</td>\n",
       "      <td>71.0</td>\n",
       "      <td>320.0</td>\n",
       "      <td>21.0</td>\n",
       "      <td>17106.99</td>\n",
       "      <td>Emely</td>\n",
       "      <td>Hoffman</td>\n",
       "      <td>53</td>\n",
       "      <td>Orlando-Kissimmee-Sanford, FL MSA</td>\n",
       "      <td>2018-08-03</td>\n",
       "      <td>ultimate</td>\n",
       "      <td>Active</td>\n",
       "      <td>1000</td>\n",
       "      <td>30720</td>\n",
       "      <td>3000</td>\n",
       "      <td>70</td>\n",
       "      <td>7</td>\n",
       "      <td>0.01</td>\n",
       "      <td>0.01</td>\n",
       "    </tr>\n",
       "    <tr>\n",
       "      <th>8</th>\n",
       "      <td>1008</td>\n",
       "      <td>11.0</td>\n",
       "      <td>63.0</td>\n",
       "      <td>432.0</td>\n",
       "      <td>37.0</td>\n",
       "      <td>23676.72</td>\n",
       "      <td>Emely</td>\n",
       "      <td>Hoffman</td>\n",
       "      <td>53</td>\n",
       "      <td>Orlando-Kissimmee-Sanford, FL MSA</td>\n",
       "      <td>2018-08-03</td>\n",
       "      <td>ultimate</td>\n",
       "      <td>Active</td>\n",
       "      <td>1000</td>\n",
       "      <td>30720</td>\n",
       "      <td>3000</td>\n",
       "      <td>70</td>\n",
       "      <td>7</td>\n",
       "      <td>0.01</td>\n",
       "      <td>0.01</td>\n",
       "    </tr>\n",
       "    <tr>\n",
       "      <th>9</th>\n",
       "      <td>1008</td>\n",
       "      <td>12.0</td>\n",
       "      <td>85.0</td>\n",
       "      <td>316.0</td>\n",
       "      <td>26.0</td>\n",
       "      <td>14689.33</td>\n",
       "      <td>Emely</td>\n",
       "      <td>Hoffman</td>\n",
       "      <td>53</td>\n",
       "      <td>Orlando-Kissimmee-Sanford, FL MSA</td>\n",
       "      <td>2018-08-03</td>\n",
       "      <td>ultimate</td>\n",
       "      <td>Active</td>\n",
       "      <td>1000</td>\n",
       "      <td>30720</td>\n",
       "      <td>3000</td>\n",
       "      <td>70</td>\n",
       "      <td>7</td>\n",
       "      <td>0.01</td>\n",
       "      <td>0.01</td>\n",
       "    </tr>\n",
       "  </tbody>\n",
       "</table>\n",
       "</div>"
      ],
      "text/plain": [
       "   user_id  month  call_id  duration  message_id   mb_used first_name  \\\n",
       "0     1000   12.0     16.0      66.0        11.0   1901.47   Anamaria   \n",
       "1     1000    8.0      0.0       3.0         0.0      0.00   Anamaria   \n",
       "2     1000    9.0      0.0      25.0         0.0      0.00   Anamaria   \n",
       "3     1000   10.0      0.0       9.0         0.0      0.00   Anamaria   \n",
       "4     1000   11.0      0.0      21.0         0.0      0.00   Anamaria   \n",
       "5     1006   11.0      2.0       NaN        15.0   2068.37     Jesusa   \n",
       "6     1006   12.0      9.0      71.0       139.0  32118.82     Jesusa   \n",
       "7     1008   10.0     71.0     320.0        21.0  17106.99      Emely   \n",
       "8     1008   11.0     63.0     432.0        37.0  23676.72      Emely   \n",
       "9     1008   12.0     85.0     316.0        26.0  14689.33      Emely   \n",
       "\n",
       "  last_name  age                                    city   reg_date plan_name  \\\n",
       "0     Bauer   45   Atlanta-Sandy Springs-Roswell, GA MSA 2018-12-24  ultimate   \n",
       "1     Bauer   45   Atlanta-Sandy Springs-Roswell, GA MSA 2018-12-24  ultimate   \n",
       "2     Bauer   45   Atlanta-Sandy Springs-Roswell, GA MSA 2018-12-24  ultimate   \n",
       "3     Bauer   45   Atlanta-Sandy Springs-Roswell, GA MSA 2018-12-24  ultimate   \n",
       "4     Bauer   45   Atlanta-Sandy Springs-Roswell, GA MSA 2018-12-24  ultimate   \n",
       "5  Bradford   73  San Francisco-Oakland-Berkeley, CA MSA 2018-11-27  ultimate   \n",
       "6  Bradford   73  San Francisco-Oakland-Berkeley, CA MSA 2018-11-27  ultimate   \n",
       "7   Hoffman   53       Orlando-Kissimmee-Sanford, FL MSA 2018-08-03  ultimate   \n",
       "8   Hoffman   53       Orlando-Kissimmee-Sanford, FL MSA 2018-08-03  ultimate   \n",
       "9   Hoffman   53       Orlando-Kissimmee-Sanford, FL MSA 2018-08-03  ultimate   \n",
       "\n",
       "   churn_date  messages_included  mb_per_month_included  minutes_included  \\\n",
       "0      Active               1000                  30720              3000   \n",
       "1      Active               1000                  30720              3000   \n",
       "2      Active               1000                  30720              3000   \n",
       "3      Active               1000                  30720              3000   \n",
       "4      Active               1000                  30720              3000   \n",
       "5  2018-12-18               1000                  30720              3000   \n",
       "6  2018-12-18               1000                  30720              3000   \n",
       "7      Active               1000                  30720              3000   \n",
       "8      Active               1000                  30720              3000   \n",
       "9      Active               1000                  30720              3000   \n",
       "\n",
       "   usd_monthly_fee  usd_per_gb  usd_per_message  usd_per_minute  \n",
       "0               70           7             0.01            0.01  \n",
       "1               70           7             0.01            0.01  \n",
       "2               70           7             0.01            0.01  \n",
       "3               70           7             0.01            0.01  \n",
       "4               70           7             0.01            0.01  \n",
       "5               70           7             0.01            0.01  \n",
       "6               70           7             0.01            0.01  \n",
       "7               70           7             0.01            0.01  \n",
       "8               70           7             0.01            0.01  \n",
       "9               70           7             0.01            0.01  "
      ]
     },
     "metadata": {},
     "output_type": "display_data"
    }
   ],
   "source": [
    "# Add the plan information\n",
    "merged_data = merged_df.merge(users_df, on = 'user_id', how = 'outer')\n",
    "display(merged_data.head(10))\n",
    "complete_merge = merged_data.merge(plans_df, on = 'plan_name', how = 'outer')\n",
    "complete_merge['call_id'] = complete_merge['call_id'].fillna(0)\n",
    "complete_merge['message_id'] = complete_merge['message_id'].fillna(0)\n",
    "complete_merge['mb_used'] = complete_merge['mb_used'].fillna(0)\n",
    "display(complete_merge.head(10))\n"
   ]
  },
  {
   "cell_type": "markdown",
   "metadata": {},
   "source": [
    "[Calculate the monthly revenue from each user (subtract the free package limit from the total number of calls, text messages, and data; multiply the result by the calling plan value; add the monthly charge depending on the calling plan). N.B. This might not be as trivial as just a couple of lines given the plan conditions! So, it's okay to spend some time on it.]"
   ]
  },
  {
   "cell_type": "code",
   "execution_count": 29,
   "metadata": {},
   "outputs": [
    {
     "data": {
      "text/html": [
       "<div>\n",
       "<style scoped>\n",
       "    .dataframe tbody tr th:only-of-type {\n",
       "        vertical-align: middle;\n",
       "    }\n",
       "\n",
       "    .dataframe tbody tr th {\n",
       "        vertical-align: top;\n",
       "    }\n",
       "\n",
       "    .dataframe thead th {\n",
       "        text-align: right;\n",
       "    }\n",
       "</style>\n",
       "<table border=\"1\" class=\"dataframe\">\n",
       "  <thead>\n",
       "    <tr style=\"text-align: right;\">\n",
       "      <th></th>\n",
       "      <th>user_id</th>\n",
       "      <th>month</th>\n",
       "      <th>call_id</th>\n",
       "      <th>duration</th>\n",
       "      <th>message_id</th>\n",
       "      <th>mb_used</th>\n",
       "      <th>first_name</th>\n",
       "      <th>last_name</th>\n",
       "      <th>age</th>\n",
       "      <th>city</th>\n",
       "      <th>reg_date</th>\n",
       "      <th>plan_name</th>\n",
       "      <th>churn_date</th>\n",
       "      <th>messages_included</th>\n",
       "      <th>mb_per_month_included</th>\n",
       "      <th>minutes_included</th>\n",
       "      <th>usd_monthly_fee</th>\n",
       "      <th>usd_per_gb</th>\n",
       "      <th>usd_per_message</th>\n",
       "      <th>usd_per_minute</th>\n",
       "      <th>gb_away_from_limit</th>\n",
       "      <th>payment_due</th>\n",
       "    </tr>\n",
       "  </thead>\n",
       "  <tbody>\n",
       "    <tr>\n",
       "      <th>0</th>\n",
       "      <td>1000</td>\n",
       "      <td>12.0</td>\n",
       "      <td>16.0</td>\n",
       "      <td>66.0</td>\n",
       "      <td>11.0</td>\n",
       "      <td>1901.47</td>\n",
       "      <td>Anamaria</td>\n",
       "      <td>Bauer</td>\n",
       "      <td>45</td>\n",
       "      <td>Atlanta-Sandy Springs-Roswell, GA MSA</td>\n",
       "      <td>2018-12-24</td>\n",
       "      <td>ultimate</td>\n",
       "      <td>Active</td>\n",
       "      <td>1000</td>\n",
       "      <td>30720</td>\n",
       "      <td>3000</td>\n",
       "      <td>70</td>\n",
       "      <td>7</td>\n",
       "      <td>0.01</td>\n",
       "      <td>0.01</td>\n",
       "      <td>-28.0</td>\n",
       "      <td>70.0</td>\n",
       "    </tr>\n",
       "    <tr>\n",
       "      <th>1</th>\n",
       "      <td>1000</td>\n",
       "      <td>8.0</td>\n",
       "      <td>0.0</td>\n",
       "      <td>3.0</td>\n",
       "      <td>0.0</td>\n",
       "      <td>0.00</td>\n",
       "      <td>Anamaria</td>\n",
       "      <td>Bauer</td>\n",
       "      <td>45</td>\n",
       "      <td>Atlanta-Sandy Springs-Roswell, GA MSA</td>\n",
       "      <td>2018-12-24</td>\n",
       "      <td>ultimate</td>\n",
       "      <td>Active</td>\n",
       "      <td>1000</td>\n",
       "      <td>30720</td>\n",
       "      <td>3000</td>\n",
       "      <td>70</td>\n",
       "      <td>7</td>\n",
       "      <td>0.01</td>\n",
       "      <td>0.01</td>\n",
       "      <td>-30.0</td>\n",
       "      <td>70.0</td>\n",
       "    </tr>\n",
       "    <tr>\n",
       "      <th>2</th>\n",
       "      <td>1000</td>\n",
       "      <td>9.0</td>\n",
       "      <td>0.0</td>\n",
       "      <td>25.0</td>\n",
       "      <td>0.0</td>\n",
       "      <td>0.00</td>\n",
       "      <td>Anamaria</td>\n",
       "      <td>Bauer</td>\n",
       "      <td>45</td>\n",
       "      <td>Atlanta-Sandy Springs-Roswell, GA MSA</td>\n",
       "      <td>2018-12-24</td>\n",
       "      <td>ultimate</td>\n",
       "      <td>Active</td>\n",
       "      <td>1000</td>\n",
       "      <td>30720</td>\n",
       "      <td>3000</td>\n",
       "      <td>70</td>\n",
       "      <td>7</td>\n",
       "      <td>0.01</td>\n",
       "      <td>0.01</td>\n",
       "      <td>-30.0</td>\n",
       "      <td>70.0</td>\n",
       "    </tr>\n",
       "    <tr>\n",
       "      <th>3</th>\n",
       "      <td>1000</td>\n",
       "      <td>10.0</td>\n",
       "      <td>0.0</td>\n",
       "      <td>9.0</td>\n",
       "      <td>0.0</td>\n",
       "      <td>0.00</td>\n",
       "      <td>Anamaria</td>\n",
       "      <td>Bauer</td>\n",
       "      <td>45</td>\n",
       "      <td>Atlanta-Sandy Springs-Roswell, GA MSA</td>\n",
       "      <td>2018-12-24</td>\n",
       "      <td>ultimate</td>\n",
       "      <td>Active</td>\n",
       "      <td>1000</td>\n",
       "      <td>30720</td>\n",
       "      <td>3000</td>\n",
       "      <td>70</td>\n",
       "      <td>7</td>\n",
       "      <td>0.01</td>\n",
       "      <td>0.01</td>\n",
       "      <td>-30.0</td>\n",
       "      <td>70.0</td>\n",
       "    </tr>\n",
       "    <tr>\n",
       "      <th>4</th>\n",
       "      <td>1000</td>\n",
       "      <td>11.0</td>\n",
       "      <td>0.0</td>\n",
       "      <td>21.0</td>\n",
       "      <td>0.0</td>\n",
       "      <td>0.00</td>\n",
       "      <td>Anamaria</td>\n",
       "      <td>Bauer</td>\n",
       "      <td>45</td>\n",
       "      <td>Atlanta-Sandy Springs-Roswell, GA MSA</td>\n",
       "      <td>2018-12-24</td>\n",
       "      <td>ultimate</td>\n",
       "      <td>Active</td>\n",
       "      <td>1000</td>\n",
       "      <td>30720</td>\n",
       "      <td>3000</td>\n",
       "      <td>70</td>\n",
       "      <td>7</td>\n",
       "      <td>0.01</td>\n",
       "      <td>0.01</td>\n",
       "      <td>-30.0</td>\n",
       "      <td>70.0</td>\n",
       "    </tr>\n",
       "    <tr>\n",
       "      <th>5</th>\n",
       "      <td>1006</td>\n",
       "      <td>11.0</td>\n",
       "      <td>2.0</td>\n",
       "      <td>NaN</td>\n",
       "      <td>15.0</td>\n",
       "      <td>2068.37</td>\n",
       "      <td>Jesusa</td>\n",
       "      <td>Bradford</td>\n",
       "      <td>73</td>\n",
       "      <td>San Francisco-Oakland-Berkeley, CA MSA</td>\n",
       "      <td>2018-11-27</td>\n",
       "      <td>ultimate</td>\n",
       "      <td>2018-12-18</td>\n",
       "      <td>1000</td>\n",
       "      <td>30720</td>\n",
       "      <td>3000</td>\n",
       "      <td>70</td>\n",
       "      <td>7</td>\n",
       "      <td>0.01</td>\n",
       "      <td>0.01</td>\n",
       "      <td>-27.0</td>\n",
       "      <td>70.0</td>\n",
       "    </tr>\n",
       "    <tr>\n",
       "      <th>6</th>\n",
       "      <td>1006</td>\n",
       "      <td>12.0</td>\n",
       "      <td>9.0</td>\n",
       "      <td>71.0</td>\n",
       "      <td>139.0</td>\n",
       "      <td>32118.82</td>\n",
       "      <td>Jesusa</td>\n",
       "      <td>Bradford</td>\n",
       "      <td>73</td>\n",
       "      <td>San Francisco-Oakland-Berkeley, CA MSA</td>\n",
       "      <td>2018-11-27</td>\n",
       "      <td>ultimate</td>\n",
       "      <td>2018-12-18</td>\n",
       "      <td>1000</td>\n",
       "      <td>30720</td>\n",
       "      <td>3000</td>\n",
       "      <td>70</td>\n",
       "      <td>7</td>\n",
       "      <td>0.01</td>\n",
       "      <td>0.01</td>\n",
       "      <td>2.0</td>\n",
       "      <td>84.0</td>\n",
       "    </tr>\n",
       "    <tr>\n",
       "      <th>7</th>\n",
       "      <td>1008</td>\n",
       "      <td>10.0</td>\n",
       "      <td>71.0</td>\n",
       "      <td>320.0</td>\n",
       "      <td>21.0</td>\n",
       "      <td>17106.99</td>\n",
       "      <td>Emely</td>\n",
       "      <td>Hoffman</td>\n",
       "      <td>53</td>\n",
       "      <td>Orlando-Kissimmee-Sanford, FL MSA</td>\n",
       "      <td>2018-08-03</td>\n",
       "      <td>ultimate</td>\n",
       "      <td>Active</td>\n",
       "      <td>1000</td>\n",
       "      <td>30720</td>\n",
       "      <td>3000</td>\n",
       "      <td>70</td>\n",
       "      <td>7</td>\n",
       "      <td>0.01</td>\n",
       "      <td>0.01</td>\n",
       "      <td>-13.0</td>\n",
       "      <td>70.0</td>\n",
       "    </tr>\n",
       "    <tr>\n",
       "      <th>8</th>\n",
       "      <td>1008</td>\n",
       "      <td>11.0</td>\n",
       "      <td>63.0</td>\n",
       "      <td>432.0</td>\n",
       "      <td>37.0</td>\n",
       "      <td>23676.72</td>\n",
       "      <td>Emely</td>\n",
       "      <td>Hoffman</td>\n",
       "      <td>53</td>\n",
       "      <td>Orlando-Kissimmee-Sanford, FL MSA</td>\n",
       "      <td>2018-08-03</td>\n",
       "      <td>ultimate</td>\n",
       "      <td>Active</td>\n",
       "      <td>1000</td>\n",
       "      <td>30720</td>\n",
       "      <td>3000</td>\n",
       "      <td>70</td>\n",
       "      <td>7</td>\n",
       "      <td>0.01</td>\n",
       "      <td>0.01</td>\n",
       "      <td>-6.0</td>\n",
       "      <td>70.0</td>\n",
       "    </tr>\n",
       "    <tr>\n",
       "      <th>9</th>\n",
       "      <td>1008</td>\n",
       "      <td>12.0</td>\n",
       "      <td>85.0</td>\n",
       "      <td>316.0</td>\n",
       "      <td>26.0</td>\n",
       "      <td>14689.33</td>\n",
       "      <td>Emely</td>\n",
       "      <td>Hoffman</td>\n",
       "      <td>53</td>\n",
       "      <td>Orlando-Kissimmee-Sanford, FL MSA</td>\n",
       "      <td>2018-08-03</td>\n",
       "      <td>ultimate</td>\n",
       "      <td>Active</td>\n",
       "      <td>1000</td>\n",
       "      <td>30720</td>\n",
       "      <td>3000</td>\n",
       "      <td>70</td>\n",
       "      <td>7</td>\n",
       "      <td>0.01</td>\n",
       "      <td>0.01</td>\n",
       "      <td>-15.0</td>\n",
       "      <td>70.0</td>\n",
       "    </tr>\n",
       "  </tbody>\n",
       "</table>\n",
       "</div>"
      ],
      "text/plain": [
       "   user_id  month  call_id  duration  message_id   mb_used first_name  \\\n",
       "0     1000   12.0     16.0      66.0        11.0   1901.47   Anamaria   \n",
       "1     1000    8.0      0.0       3.0         0.0      0.00   Anamaria   \n",
       "2     1000    9.0      0.0      25.0         0.0      0.00   Anamaria   \n",
       "3     1000   10.0      0.0       9.0         0.0      0.00   Anamaria   \n",
       "4     1000   11.0      0.0      21.0         0.0      0.00   Anamaria   \n",
       "5     1006   11.0      2.0       NaN        15.0   2068.37     Jesusa   \n",
       "6     1006   12.0      9.0      71.0       139.0  32118.82     Jesusa   \n",
       "7     1008   10.0     71.0     320.0        21.0  17106.99      Emely   \n",
       "8     1008   11.0     63.0     432.0        37.0  23676.72      Emely   \n",
       "9     1008   12.0     85.0     316.0        26.0  14689.33      Emely   \n",
       "\n",
       "  last_name  age                                    city   reg_date plan_name  \\\n",
       "0     Bauer   45   Atlanta-Sandy Springs-Roswell, GA MSA 2018-12-24  ultimate   \n",
       "1     Bauer   45   Atlanta-Sandy Springs-Roswell, GA MSA 2018-12-24  ultimate   \n",
       "2     Bauer   45   Atlanta-Sandy Springs-Roswell, GA MSA 2018-12-24  ultimate   \n",
       "3     Bauer   45   Atlanta-Sandy Springs-Roswell, GA MSA 2018-12-24  ultimate   \n",
       "4     Bauer   45   Atlanta-Sandy Springs-Roswell, GA MSA 2018-12-24  ultimate   \n",
       "5  Bradford   73  San Francisco-Oakland-Berkeley, CA MSA 2018-11-27  ultimate   \n",
       "6  Bradford   73  San Francisco-Oakland-Berkeley, CA MSA 2018-11-27  ultimate   \n",
       "7   Hoffman   53       Orlando-Kissimmee-Sanford, FL MSA 2018-08-03  ultimate   \n",
       "8   Hoffman   53       Orlando-Kissimmee-Sanford, FL MSA 2018-08-03  ultimate   \n",
       "9   Hoffman   53       Orlando-Kissimmee-Sanford, FL MSA 2018-08-03  ultimate   \n",
       "\n",
       "   churn_date  messages_included  mb_per_month_included  minutes_included  \\\n",
       "0      Active               1000                  30720              3000   \n",
       "1      Active               1000                  30720              3000   \n",
       "2      Active               1000                  30720              3000   \n",
       "3      Active               1000                  30720              3000   \n",
       "4      Active               1000                  30720              3000   \n",
       "5  2018-12-18               1000                  30720              3000   \n",
       "6  2018-12-18               1000                  30720              3000   \n",
       "7      Active               1000                  30720              3000   \n",
       "8      Active               1000                  30720              3000   \n",
       "9      Active               1000                  30720              3000   \n",
       "\n",
       "   usd_monthly_fee  usd_per_gb  usd_per_message  usd_per_minute  \\\n",
       "0               70           7             0.01            0.01   \n",
       "1               70           7             0.01            0.01   \n",
       "2               70           7             0.01            0.01   \n",
       "3               70           7             0.01            0.01   \n",
       "4               70           7             0.01            0.01   \n",
       "5               70           7             0.01            0.01   \n",
       "6               70           7             0.01            0.01   \n",
       "7               70           7             0.01            0.01   \n",
       "8               70           7             0.01            0.01   \n",
       "9               70           7             0.01            0.01   \n",
       "\n",
       "   gb_away_from_limit  payment_due  \n",
       "0               -28.0         70.0  \n",
       "1               -30.0         70.0  \n",
       "2               -30.0         70.0  \n",
       "3               -30.0         70.0  \n",
       "4               -30.0         70.0  \n",
       "5               -27.0         70.0  \n",
       "6                 2.0         84.0  \n",
       "7               -13.0         70.0  \n",
       "8                -6.0         70.0  \n",
       "9               -15.0         70.0  "
      ]
     },
     "metadata": {},
     "output_type": "display_data"
    }
   ],
   "source": [
    "# Calculate the monthly revenue for each user\n",
    "complete_merge['gb_away_from_limit'] = ((complete_merge['mb_used'] - complete_merge['mb_per_month_included'])/1024).apply(np.ceil)\n",
    "\n",
    "def calc_cost(user_stats):\n",
    "    user_stats['minutes_over_plan'] = user_stats['duration'] - user_stats['minutes_included']\n",
    "    user_stats['messages_over_plan'] = user_stats['message_id'] - user_stats['messages_included']\n",
    "    user_stats['gb_over_plan'] = user_stats['gb_away_from_limit']\n",
    "    if user_stats['minutes_over_plan'] >=1:\n",
    "        user_stats['extra_minutes_payment'] = user_stats['minutes_over_plan'] * user_stats['usd_per_minute']\n",
    "    else:\n",
    "        user_stats['extra_minutes_payment'] = 0\n",
    "    if user_stats['messages_over_plan'] >=1:\n",
    "        user_stats['extra_messages_payment'] = user_stats['messages_over_plan'] * user_stats['usd_per_message']\n",
    "    else:\n",
    "        user_stats['extra_messages_payment'] = 0\n",
    "    if user_stats['gb_over_plan'] >=1:\n",
    "        user_stats['extra_gb_payment'] = user_stats['gb_over_plan'] * user_stats['usd_per_gb']\n",
    "    else:\n",
    "        user_stats['extra_gb_payment'] = 0\n",
    "    payment_due = user_stats['extra_minutes_payment'] + user_stats['extra_messages_payment'] + user_stats['extra_gb_payment'] + user_stats['usd_monthly_fee']\n",
    "    return payment_due\n",
    "        \n",
    "complete_merge['payment_due'] = complete_merge.apply(lambda x: calc_cost(x), axis=1)\n",
    "pd.set_option ('display.max_columns', None)\n",
    "display(complete_merge.head(10))\n"
   ]
  },
  {
   "cell_type": "markdown",
   "metadata": {},
   "source": [
    "## Study user behaviour"
   ]
  },
  {
   "cell_type": "markdown",
   "metadata": {},
   "source": [
    "### Calls"
   ]
  },
  {
   "cell_type": "code",
   "execution_count": 30,
   "metadata": {},
   "outputs": [
    {
     "data": {
      "text/html": [
       "<div>\n",
       "<style scoped>\n",
       "    .dataframe tbody tr th:only-of-type {\n",
       "        vertical-align: middle;\n",
       "    }\n",
       "\n",
       "    .dataframe tbody tr th {\n",
       "        vertical-align: top;\n",
       "    }\n",
       "\n",
       "    .dataframe thead th {\n",
       "        text-align: right;\n",
       "    }\n",
       "</style>\n",
       "<table border=\"1\" class=\"dataframe\">\n",
       "  <thead>\n",
       "    <tr style=\"text-align: right;\">\n",
       "      <th></th>\n",
       "      <th>user_id</th>\n",
       "      <th>call_month</th>\n",
       "      <th>count_calls</th>\n",
       "      <th>total_duration</th>\n",
       "    </tr>\n",
       "  </thead>\n",
       "  <tbody>\n",
       "    <tr>\n",
       "      <th>2480</th>\n",
       "      <td>1338</td>\n",
       "      <td>5.0</td>\n",
       "      <td>48</td>\n",
       "      <td>340.0</td>\n",
       "    </tr>\n",
       "    <tr>\n",
       "      <th>447</th>\n",
       "      <td>1060</td>\n",
       "      <td>6.0</td>\n",
       "      <td>29</td>\n",
       "      <td>196.0</td>\n",
       "    </tr>\n",
       "    <tr>\n",
       "      <th>1781</th>\n",
       "      <td>1240</td>\n",
       "      <td>11.0</td>\n",
       "      <td>115</td>\n",
       "      <td>851.0</td>\n",
       "    </tr>\n",
       "    <tr>\n",
       "      <th>642</th>\n",
       "      <td>1085</td>\n",
       "      <td>5.0</td>\n",
       "      <td>19</td>\n",
       "      <td>120.0</td>\n",
       "    </tr>\n",
       "    <tr>\n",
       "      <th>1986</th>\n",
       "      <td>1270</td>\n",
       "      <td>11.0</td>\n",
       "      <td>24</td>\n",
       "      <td>145.0</td>\n",
       "    </tr>\n",
       "  </tbody>\n",
       "</table>\n",
       "</div>"
      ],
      "text/plain": [
       "      user_id  call_month  count_calls  total_duration\n",
       "2480     1338         5.0           48           340.0\n",
       "447      1060         6.0           29           196.0\n",
       "1781     1240        11.0          115           851.0\n",
       "642      1085         5.0           19           120.0\n",
       "1986     1270        11.0           24           145.0"
      ]
     },
     "metadata": {},
     "output_type": "display_data"
    },
    {
     "data": {
      "image/png": "[encoded data removed]",
      "text/plain": [
       "<Figure size 432x288 with 1 Axes>"
      ]
     },
     "metadata": {
      "needs_background": "light"
     },
     "output_type": "display_data"
    }
   ],
   "source": [
    "# Compare average duration of calls per each plan per each distinct month. Plot a bar plat to visualize it.\n",
    "\n",
    "users_call_df = users_df.merge(calls_df).rename({\"call_id\":\"id\"}, axis=1)\n",
    "users_call_pivot = pd.DataFrame(users_call_df.pivot_table(index=['user_id', 'month'], values='duration', aggfunc=['count', 'sum'])).reset_index(drop=False)\n",
    "users_call_pivot.columns = ['user_id', 'call_month', 'count_calls', 'total_duration']\n",
    "display(users_call_pivot.sample(5))\n",
    "\n",
    "\n",
    "months = 12\n",
    "complete_merge['duration_per_month'] = users_call_pivot['total_duration']\n",
    "complete_merge['avg_duration_per_month'] = users_call_pivot['total_duration'] / months\n",
    "duration_metrics = {'avg_duration_per_month' : 'minutes per month'}\n",
    "\n",
    "def generate_duration_plot(df, metrics = duration_metrics):\n",
    "    surf = complete_merge[complete_merge['plan_name'] == 'surf']\n",
    "    ultimate = complete_merge[complete_merge['plan_name'] == 'ultimate']\n",
    "    for col, title in metrics.items():\n",
    "        plt.hist(ultimate[col], alpha=0.5, label=f'ultimate {col}')\n",
    "        plt.hist(surf[col], alpha=0.5, label=f'surf {col}')\n",
    "        plt.legend(loc='upper right')\n",
    "        plt.title('Average Call Duration per Month')\n",
    "        plt.xlabel('Number of Users')\n",
    "        plt.ylabel('Average Durations')\n",
    "        plt.show()\n",
    "        \n",
    "generate_duration_plot(complete_merge)"
   ]
  },
  {
   "cell_type": "code",
   "execution_count": 31,
   "metadata": {},
   "outputs": [
    {
     "data": {
      "image/png": "[encoded data removed]",
      "text/plain": [
       "<Figure size 432x288 with 1 Axes>"
      ]
     },
     "metadata": {
      "needs_background": "light"
     },
     "output_type": "display_data"
    }
   ],
   "source": [
    "# Compare the number of minutes users of each plan require each month. Plot a histogram.\n",
    "\n",
    "complete_merge['required_minutes_per_month'] = users_call_pivot['count_calls']\n",
    "required_minutes_metrics = {'required_minutes_per_month' : 'minutes per month'}\n",
    "\n",
    "def generate_duration_plot(df, metrics = required_minutes_metrics):\n",
    "    surf = complete_merge[complete_merge['plan_name'] == 'surf']\n",
    "    ultimate = complete_merge[complete_merge['plan_name'] == 'ultimate']\n",
    "    for col, title in metrics.items():\n",
    "        plt.hist(ultimate[col], alpha=0.5, label=f'ultimate {col}')\n",
    "        plt.hist(surf[col], alpha=0.5, label=f'surf {col}')\n",
    "        plt.legend(loc='upper right')\n",
    "        plt.title('Average Required Call Duration per Month')\n",
    "        plt.xlabel('Number of Users')\n",
    "        plt.ylabel('Average Durations')\n",
    "        plt.show()\n",
    "        \n",
    "generate_duration_plot(complete_merge) "
   ]
  },
  {
   "cell_type": "code",
   "execution_count": 32,
   "metadata": {},
   "outputs": [
    {
     "data": {
      "text/plain": [
       "count    2702.000000\n",
       "mean      285.066987\n",
       "std       307.569962\n",
       "min         1.000000\n",
       "25%        81.000000\n",
       "50%       187.000000\n",
       "75%       385.000000\n",
       "max      2432.000000\n",
       "Name: duration_per_month, dtype: float64"
      ]
     },
     "metadata": {},
     "output_type": "display_data"
    },
    {
     "data": {
      "text/plain": [
       "17.537672650611313"
      ]
     },
     "metadata": {},
     "output_type": "display_data"
    }
   ],
   "source": [
    "# Calculate the mean and the variance of the monthly call duration\n",
    "display(complete_merge['duration_per_month'].describe())\n",
    "call_duration_std = 307.569962\n",
    "call_duration_var = np.sqrt(call_duration_std)\n",
    "display(call_duration_var)\n"
   ]
  },
  {
   "cell_type": "code",
   "execution_count": 33,
   "metadata": {},
   "outputs": [
    {
     "data": {
      "image/png": "[encoded data removed]",
      "text/plain": [
       "<Figure size 432x288 with 1 Axes>"
      ]
     },
     "metadata": {
      "needs_background": "light"
     },
     "output_type": "display_data"
    },
    {
     "data": {
      "image/png": "[encoded data removed]",
      "text/plain": [
       "<Figure size 432x288 with 1 Axes>"
      ]
     },
     "metadata": {
      "needs_background": "light"
     },
     "output_type": "display_data"
    }
   ],
   "source": [
    "# Plot a boxplot to visualize the distribution of the monthly call duration\n",
    "\n",
    "complete_merge[complete_merge['plan_name'] == 'surf']['duration_per_month'].plot(kind = 'box')\n",
    "plt.title('Surf Plan: Monthly Call Distribution')\n",
    "plt.show()\n",
    "complete_merge[complete_merge['plan_name'] == 'ultimate']['duration_per_month'].plot(kind = 'box')\n",
    "plt.title('Ultimate Plan: Monthly Call Distribution')\n",
    "plt.show()"
   ]
  },
  {
   "cell_type": "markdown",
   "metadata": {},
   "source": [
    "The distribution in terms of calling between the two plans is very similar. They are both positively skewed with similar median values."
   ]
  },
  {
   "cell_type": "markdown",
   "metadata": {},
   "source": [
    " "
   ]
  },
  {
   "cell_type": "markdown",
   "metadata": {},
   "source": [
    "### Messages"
   ]
  },
  {
   "cell_type": "code",
   "execution_count": 34,
   "metadata": {},
   "outputs": [
    {
     "data": {
      "text/html": [
       "<div>\n",
       "<style scoped>\n",
       "    .dataframe tbody tr th:only-of-type {\n",
       "        vertical-align: middle;\n",
       "    }\n",
       "\n",
       "    .dataframe tbody tr th {\n",
       "        vertical-align: top;\n",
       "    }\n",
       "\n",
       "    .dataframe thead th {\n",
       "        text-align: right;\n",
       "    }\n",
       "</style>\n",
       "<table border=\"1\" class=\"dataframe\">\n",
       "  <thead>\n",
       "    <tr style=\"text-align: right;\">\n",
       "      <th></th>\n",
       "      <th>user_id</th>\n",
       "      <th>message_month</th>\n",
       "      <th>message_count</th>\n",
       "    </tr>\n",
       "  </thead>\n",
       "  <tbody>\n",
       "    <tr>\n",
       "      <th>405</th>\n",
       "      <td>1114</td>\n",
       "      <td>10</td>\n",
       "      <td>89</td>\n",
       "    </tr>\n",
       "    <tr>\n",
       "      <th>697</th>\n",
       "      <td>1188</td>\n",
       "      <td>12</td>\n",
       "      <td>52</td>\n",
       "    </tr>\n",
       "    <tr>\n",
       "      <th>1599</th>\n",
       "      <td>1438</td>\n",
       "      <td>12</td>\n",
       "      <td>55</td>\n",
       "    </tr>\n",
       "    <tr>\n",
       "      <th>1389</th>\n",
       "      <td>1372</td>\n",
       "      <td>12</td>\n",
       "      <td>54</td>\n",
       "    </tr>\n",
       "    <tr>\n",
       "      <th>985</th>\n",
       "      <td>1259</td>\n",
       "      <td>5</td>\n",
       "      <td>29</td>\n",
       "    </tr>\n",
       "  </tbody>\n",
       "</table>\n",
       "</div>"
      ],
      "text/plain": [
       "      user_id  message_month  message_count\n",
       "405      1114             10             89\n",
       "697      1188             12             52\n",
       "1599     1438             12             55\n",
       "1389     1372             12             54\n",
       "985      1259              5             29"
      ]
     },
     "metadata": {},
     "output_type": "display_data"
    },
    {
     "data": {
      "image/png": "[encoded data removed]",
      "text/plain": [
       "<Figure size 432x288 with 1 Axes>"
      ]
     },
     "metadata": {
      "needs_background": "light"
     },
     "output_type": "display_data"
    }
   ],
   "source": [
    "# Compare the number of messages users of each plan tend to send each month\n",
    "users_messages = users_df.merge(messages_df).rename({\"message_id\":\"id\"}, axis=1)\n",
    "\n",
    "users_messages_pivot = pd.DataFrame(users_messages.pivot_table(index=['user_id', 'month'], values='id', aggfunc=['count'])).reset_index(drop=False)\n",
    "users_messages_pivot.columns = ['user_id', 'message_month', 'message_count']\n",
    "display(users_messages_pivot.sample(5))\n",
    "\n",
    "\n",
    "complete_merge['messages_per_month'] = users_messages_pivot['message_count']\n",
    "message_metrics = {'messages_per_month' : 'messages per month'}\n",
    "\n",
    "def generate_message_plot(df, metrics = message_metrics):\n",
    "    surf = complete_merge[complete_merge['plan_name'] == 'surf']\n",
    "    ultimate = complete_merge[complete_merge['plan_name'] == 'ultimate']\n",
    "    for col, title in metrics.items():\n",
    "        plt.hist(ultimate[col], alpha=0.5, label=f'ultimate {col}')\n",
    "        plt.hist(surf[col], alpha=0.5, label=f'surf {col}')\n",
    "        plt.legend(loc='upper right')\n",
    "        plt.title('Average Number of Messages per Month')\n",
    "        plt.xlabel('Number of Users')\n",
    "        plt.ylabel('Average Message Count')\n",
    "        plt.show()\n",
    "        \n",
    "generate_message_plot(complete_merge)"
   ]
  },
  {
   "cell_type": "code",
   "execution_count": 35,
   "metadata": {},
   "outputs": [
    {
     "data": {
      "text/plain": [
       "count    1806.000000\n",
       "mean       42.110188\n",
       "std        33.122931\n",
       "min         1.000000\n",
       "25%        17.000000\n",
       "50%        34.000000\n",
       "75%        59.000000\n",
       "max       266.000000\n",
       "Name: messages_per_month, dtype: float64"
      ]
     },
     "metadata": {},
     "output_type": "display_data"
    },
    {
     "data": {
      "text/plain": [
       "5.755252470569818"
      ]
     },
     "metadata": {},
     "output_type": "display_data"
    }
   ],
   "source": [
    "display(complete_merge['messages_per_month'].describe())\n",
    "call_duration_std = 33.122931\n",
    "call_duration_var = np.sqrt(call_duration_std)\n",
    "display(call_duration_var)"
   ]
  },
  {
   "cell_type": "code",
   "execution_count": 36,
   "metadata": {},
   "outputs": [
    {
     "data": {
      "image/png": "[encoded data removed]",
      "text/plain": [
       "<Figure size 432x288 with 1 Axes>"
      ]
     },
     "metadata": {
      "needs_background": "light"
     },
     "output_type": "display_data"
    },
    {
     "data": {
      "image/png": "[encoded data removed]",
      "text/plain": [
       "<Figure size 432x288 with 1 Axes>"
      ]
     },
     "metadata": {
      "needs_background": "light"
     },
     "output_type": "display_data"
    }
   ],
   "source": [
    "complete_merge[complete_merge['plan_name'] == 'surf']['messages_per_month'].plot(kind = 'box')\n",
    "plt.title('Surf Plan: Monthly Message Distribution')\n",
    "plt.show()\n",
    "complete_merge[complete_merge['plan_name'] == 'ultimate']['messages_per_month'].plot(kind = 'box')\n",
    "plt.title('Ultimate Plan: Monthly Message Distribution')\n",
    "plt.show()"
   ]
  },
  {
   "cell_type": "markdown",
   "metadata": {},
   "source": [
    "Again, both are positively skewed but the quartiles for the Surf plan are wider that the Ultimate plan. The histogram shows that users enrolled into the Ultimate plan usually send more messages per month than those enrolled in the Surf plan."
   ]
  },
  {
   "cell_type": "markdown",
   "metadata": {},
   "source": [
    " "
   ]
  },
  {
   "cell_type": "markdown",
   "metadata": {},
   "source": [
    "### Internet"
   ]
  },
  {
   "cell_type": "code",
   "execution_count": 37,
   "metadata": {},
   "outputs": [
    {
     "data": {
      "text/html": [
       "<div>\n",
       "<style scoped>\n",
       "    .dataframe tbody tr th:only-of-type {\n",
       "        vertical-align: middle;\n",
       "    }\n",
       "\n",
       "    .dataframe tbody tr th {\n",
       "        vertical-align: top;\n",
       "    }\n",
       "\n",
       "    .dataframe thead th {\n",
       "        text-align: right;\n",
       "    }\n",
       "</style>\n",
       "<table border=\"1\" class=\"dataframe\">\n",
       "  <thead>\n",
       "    <tr style=\"text-align: right;\">\n",
       "      <th></th>\n",
       "      <th>user_id</th>\n",
       "      <th>session_month</th>\n",
       "      <th>mb_count</th>\n",
       "    </tr>\n",
       "  </thead>\n",
       "  <tbody>\n",
       "    <tr>\n",
       "      <th>599</th>\n",
       "      <td>1127</td>\n",
       "      <td>9</td>\n",
       "      <td>83</td>\n",
       "    </tr>\n",
       "    <tr>\n",
       "      <th>210</th>\n",
       "      <td>1050</td>\n",
       "      <td>9</td>\n",
       "      <td>56</td>\n",
       "    </tr>\n",
       "    <tr>\n",
       "      <th>1190</th>\n",
       "      <td>1252</td>\n",
       "      <td>12</td>\n",
       "      <td>46</td>\n",
       "    </tr>\n",
       "    <tr>\n",
       "      <th>647</th>\n",
       "      <td>1137</td>\n",
       "      <td>12</td>\n",
       "      <td>16</td>\n",
       "    </tr>\n",
       "    <tr>\n",
       "      <th>244</th>\n",
       "      <td>1056</td>\n",
       "      <td>11</td>\n",
       "      <td>65</td>\n",
       "    </tr>\n",
       "  </tbody>\n",
       "</table>\n",
       "</div>"
      ],
      "text/plain": [
       "      user_id  session_month  mb_count\n",
       "599      1127              9        83\n",
       "210      1050              9        56\n",
       "1190     1252             12        46\n",
       "647      1137             12        16\n",
       "244      1056             11        65"
      ]
     },
     "metadata": {},
     "output_type": "display_data"
    },
    {
     "data": {
      "image/png": "[encoded data removed]",
      "text/plain": [
       "<Figure size 432x288 with 1 Axes>"
      ]
     },
     "metadata": {
      "needs_background": "light"
     },
     "output_type": "display_data"
    }
   ],
   "source": [
    "# Compare the amount of internet traffic consumed by users per plan\n",
    "users_internet = users_df.merge(internet_df).rename({\"session_id\":\"id\"}, axis=1)\n",
    "\n",
    "users_internet_pivot = pd.DataFrame(users_internet.pivot_table(index=['user_id', 'month'], values='id', aggfunc=['count'])).reset_index(drop=False)\n",
    "users_internet_pivot.columns = ['user_id', 'session_month', 'mb_count']\n",
    "display(users_internet_pivot.sample(5))\n",
    "\n",
    "\n",
    "complete_merge['traffic_per_month'] = users_internet_pivot['mb_count']\n",
    "traffic_metrics = {'traffic_per_month' : 'internet traffice per month'}\n",
    "\n",
    "def generate_internet_traffic_plot(df, metrics = traffic_metrics):\n",
    "    surf = complete_merge[complete_merge['plan_name'] == 'surf']\n",
    "    ultimate = complete_merge[complete_merge['plan_name'] == 'ultimate']\n",
    "    for col, title in metrics.items():\n",
    "        plt.hist(ultimate[col], alpha=0.5, label=f'ultimate {col}')\n",
    "        plt.hist(surf[col], alpha=0.5, label=f'surf {col}')\n",
    "        plt.legend(loc='upper right')\n",
    "        plt.title('Average Amount of Internet Traffic Comsumed')\n",
    "        plt.xlabel('Number of Users')\n",
    "        plt.ylabel('Average mb Count')\n",
    "        plt.show()\n",
    "        \n",
    "generate_internet_traffic_plot(complete_merge)"
   ]
  },
  {
   "cell_type": "code",
   "execution_count": 38,
   "metadata": {},
   "outputs": [
    {
     "data": {
      "text/plain": [
       "count    2277.000000\n",
       "mean       46.036451\n",
       "std        19.275885\n",
       "min         1.000000\n",
       "25%        35.000000\n",
       "50%        48.000000\n",
       "75%        58.000000\n",
       "max       138.000000\n",
       "Name: traffic_per_month, dtype: float64"
      ]
     },
     "metadata": {},
     "output_type": "display_data"
    },
    {
     "data": {
      "text/plain": [
       "4.390431072229696"
      ]
     },
     "metadata": {},
     "output_type": "display_data"
    }
   ],
   "source": [
    "display(complete_merge['traffic_per_month'].describe())\n",
    "internet_traffic_std = 19.275885\n",
    "internet_traffic_var = np.sqrt(internet_traffic_std)\n",
    "display(internet_traffic_var)"
   ]
  },
  {
   "cell_type": "code",
   "execution_count": 39,
   "metadata": {},
   "outputs": [
    {
     "data": {
      "image/png": "[encoded data removed]",
      "text/plain": [
       "<Figure size 432x288 with 1 Axes>"
      ]
     },
     "metadata": {
      "needs_background": "light"
     },
     "output_type": "display_data"
    },
    {
     "data": {
      "image/png": "[encoded data removed]",
      "text/plain": [
       "<Figure size 432x288 with 1 Axes>"
      ]
     },
     "metadata": {
      "needs_background": "light"
     },
     "output_type": "display_data"
    }
   ],
   "source": [
    "complete_merge[complete_merge['plan_name'] == 'surf']['traffic_per_month'].plot(kind = 'box')\n",
    "plt.title('Surf Plan: Monthly Internet Traffic Distribution')\n",
    "plt.show()\n",
    "complete_merge[complete_merge['plan_name'] == 'ultimate']['traffic_per_month'].plot(kind = 'box')\n",
    "plt.title('Ultimate Plan: Monthly Internet Traffic Distribution')\n",
    "plt.show()"
   ]
  },
  {
   "cell_type": "markdown",
   "metadata": {},
   "source": [
    "When it comes to internet traffic, both plans are pretty symmetrical when it comes to their skew with few outliers. The medians are pretty similar along with their quartiles. The histogram shows that users from both plans peak between 40 and 60. "
   ]
  },
  {
   "cell_type": "markdown",
   "metadata": {},
   "source": [
    " "
   ]
  },
  {
   "cell_type": "markdown",
   "metadata": {},
   "source": [
    "## Revenue"
   ]
  },
  {
   "cell_type": "code",
   "execution_count": 40,
   "metadata": {},
   "outputs": [
    {
     "data": {
      "image/png": "[encoded data removed]",
      "text/plain": [
       "<Figure size 432x288 with 1 Axes>"
      ]
     },
     "metadata": {
      "needs_background": "light"
     },
     "output_type": "display_data"
    }
   ],
   "source": [
    "payment_metrics = {'payment_due' : 'monthly payment due'}\n",
    "\n",
    "def generate_payment_due_plot(df, metrics = payment_metrics):\n",
    "    surf = complete_merge[complete_merge['plan_name'] == 'surf']\n",
    "    ultimate = complete_merge[complete_merge['plan_name'] == 'ultimate']\n",
    "    for col, title in metrics.items():\n",
    "        plt.hist(ultimate[col], alpha=0.5, label=f'ultimate {col}')\n",
    "        plt.hist(surf[col], alpha=0.5, label=f'surf {col}')\n",
    "        plt.legend(loc='upper right')\n",
    "        plt.title('Average Amount of Revenue')\n",
    "        plt.xlabel('Number of Subscribers')\n",
    "        plt.ylabel('Average Payment Due')\n",
    "        plt.show()\n",
    "        \n",
    "generate_payment_due_plot(complete_merge)"
   ]
  },
  {
   "cell_type": "code",
   "execution_count": 41,
   "metadata": {},
   "outputs": [
    {
     "data": {
      "text/plain": [
       "count    3441.000000\n",
       "mean       54.898204\n",
       "std        42.520180\n",
       "min        20.000000\n",
       "25%        20.000000\n",
       "50%        54.200000\n",
       "75%        70.000000\n",
       "max       572.280000\n",
       "Name: payment_due, dtype: float64"
      ]
     },
     "metadata": {},
     "output_type": "display_data"
    },
    {
     "data": {
      "text/plain": [
       "6.520749956868459"
      ]
     },
     "metadata": {},
     "output_type": "display_data"
    }
   ],
   "source": [
    "display(complete_merge['payment_due'].describe())\n",
    "payment_due_std = 42.520180\n",
    "payment_due_var = np.sqrt(payment_due_std)\n",
    "display(payment_due_var)"
   ]
  },
  {
   "cell_type": "code",
   "execution_count": 42,
   "metadata": {},
   "outputs": [
    {
     "data": {
      "image/png": "[encoded data removed]",
      "text/plain": [
       "<Figure size 432x288 with 1 Axes>"
      ]
     },
     "metadata": {
      "needs_background": "light"
     },
     "output_type": "display_data"
    },
    {
     "data": {
      "image/png": "[encoded data removed]",
      "text/plain": [
       "<Figure size 432x288 with 1 Axes>"
      ]
     },
     "metadata": {
      "needs_background": "light"
     },
     "output_type": "display_data"
    }
   ],
   "source": [
    "complete_merge[complete_merge['plan_name'] == 'surf']['payment_due'].plot(kind = 'box')\n",
    "plt.title('Surf Plan: Monthly Revenue Distribution')\n",
    "plt.show()\n",
    "complete_merge[complete_merge['plan_name'] == 'ultimate']['payment_due'].plot(kind = 'box')\n",
    "plt.title('Ultimate Plan: Monthly Internet Traffic Distribution')\n",
    "plt.show()"
   ]
  },
  {
   "cell_type": "markdown",
   "metadata": {},
   "source": [
    "Comparing the two plans and their revenue, it seems that the Surf plan is generating more revenue."
   ]
  },
  {
   "cell_type": "markdown",
   "metadata": {},
   "source": [
    " "
   ]
  },
  {
   "cell_type": "markdown",
   "metadata": {},
   "source": [
    "## Test statistical hypotheses"
   ]
  },
  {
   "cell_type": "markdown",
   "metadata": {},
   "source": [
    "[Test the hypothesis that the average revenue from users of the Ultimate and Surf calling plans differs.]"
   ]
  },
  {
   "cell_type": "markdown",
   "metadata": {},
   "source": [
    "Null Hypothesis: The average revenue from users of the Ultimate and Surf calling plans are similar.\n",
    "\n",
    "Alternative Hypothesis: The average revenue from users of the Ultimate and Surf calling plans are different."
   ]
  },
  {
   "cell_type": "code",
   "execution_count": 43,
   "metadata": {},
   "outputs": [],
   "source": [
    "# Test the hypotheses\n",
    "ultimate = complete_merge[complete_merge['plan_name'] == 'ultimate']['payment_due'].dropna()\n",
    "surf = complete_merge[complete_merge['plan_name'] == 'surf']['payment_due'].dropna()\n",
    "\n",
    "def check_f_test(X,Y):\n",
    "  F = np.var(X) / np.var(Y)\n",
    "  p_value = f_test.cdf(F, len(X)-1, len(Y)-1)\n",
    "  return p_value > .05"
   ]
  },
  {
   "cell_type": "code",
   "execution_count": 44,
   "metadata": {},
   "outputs": [
    {
     "name": "stdout",
     "output_type": "stream",
     "text": [
      "There is significance to reject the null hypothesis, therefore Var(ultimate) != Var(surf)\n",
      "2.6588772443393235e-56\n",
      "Reject the null hypothesis, therefore the average profits for plans are different\n"
     ]
    }
   ],
   "source": [
    "if check_f_test(ultimate, surf):\n",
    "    print('Could not reject the null hypothesis, therefore that Var(ultimate) == Var(surf)')\n",
    "else:\n",
    "    print('There is significance to reject the null hypothesis, therefore Var(ultimate) != Var(surf)')\n",
    "    \n",
    "\n",
    "results = st.ttest_ind(ultimate, surf, equal_var=True)\n",
    "print(results.pvalue)\n",
    "if results.pvalue < .05:\n",
    "      print('Reject the null hypothesis, therefore the average profits for plans are different')\n",
    "else:\n",
    "      print('Fail in rejecting of the null hypothesis, therefore the average profits for plans are the same')"
   ]
  },
  {
   "cell_type": "markdown",
   "metadata": {},
   "source": [
    "[Test the hypothesis that the average revenue from users in the NY-NJ area is different from that of the users from the other regions.]"
   ]
  },
  {
   "cell_type": "markdown",
   "metadata": {},
   "source": [
    "Null Hypothesis: The average revenue from users in the NY-NJ area are similar to that of users from the other regions.\n",
    "\n",
    "Alternative Hypothesis: The average revenue from users in the NY-NJ area are different to that of users from the other regions."
   ]
  },
  {
   "cell_type": "code",
   "execution_count": 45,
   "metadata": {},
   "outputs": [
    {
     "data": {
      "text/plain": [
       "array([' GA MSA', ' CA MSA', ' FL MSA', ' OH MSA', ' TN MSA', ' TX MSA',\n",
       "       ' PA-NJ-DE-MD MSA', ' IL-IN-WI MSA', ' NY-NJ-PA MSA', ' AL MSA',\n",
       "       ' OK MSA', ' CO MSA', ' WA MSA', ' NV MSA', ' IN MSA', ' SC MSA',\n",
       "       ' NC-SC MSA', ' AZ MSA', ' MI MSA', ' CT MSA', ' OH-KY-IN MSA',\n",
       "       ' VA-NC MSA', ' KY-IN MSA', ' VA MSA', ' MO-IL MSA', ' MN-WI MSA',\n",
       "       ' LA MSA', ' TN-MS-AR MSA', ' PA MSA', ' DC-VA-MD-WV MSA',\n",
       "       ' UT MSA', ' OR-WA MSA', ' MA-NH MSA', ' NE-IA MSA', ' NM MSA',\n",
       "       ' NY MSA', ' RI-MA MSA', ' HI MSA', ' MD MSA', ' WI MSA',\n",
       "       ' MO-KS MSA', ' NC MSA'], dtype=object)"
      ]
     },
     "metadata": {},
     "output_type": "display_data"
    }
   ],
   "source": [
    "# Test the hypotheses\n",
    "complete_merge[['cities', 'state_area']] = complete_merge['city'].apply(\n",
    "    lambda x: pd.Series(str(x).split(',')))\n",
    "display(complete_merge['state_area'].unique())"
   ]
  },
  {
   "cell_type": "code",
   "execution_count": 46,
   "metadata": {},
   "outputs": [
    {
     "name": "stdout",
     "output_type": "stream",
     "text": [
      "There is significance to reject the null hypothesis\n",
      "Fail in rejecting of the null hypothesis, therefore the avg profits comparing for two population in NY/NJ area or not are the same\n"
     ]
    }
   ],
   "source": [
    "complete_merge['is_NY_NJ_area'] = complete_merge['city'].str.contains('NY-NJ')\n",
    "\n",
    "NY_NJ = complete_merge[complete_merge['is_NY_NJ_area']]['payment_due'].dropna()\n",
    "not_NY_NJ = NY_NJ = complete_merge[~complete_merge['is_NY_NJ_area']]['payment_due'].dropna()\n",
    "\n",
    "if check_f_test(NY_NJ, not_NY_NJ):\n",
    "    print('There is significance to reject the null hypothesis')   \n",
    "else:\n",
    "    print('Failed to reject the null hypothesis')\n",
    "    \n",
    "    \n",
    "results = st.ttest_ind(NY_NJ, not_NY_NJ, equal_var=True)\n",
    "if results.pvalue < .05:\n",
    "      print('we have sufficient significance for rejecting the null hypothesis, therefore the avg profits comparing for two population in NY/NJ area are not are different')\n",
    "        \n",
    "else:\n",
    "      print('Fail in rejecting of the null hypothesis, therefore the avg profits comparing for two population in NY/NJ area are not are the same')"
   ]
  },
  {
   "cell_type": "markdown",
   "metadata": {},
   "source": [
    "## General conclusion\n",
    "\n",
    "Comparing users enrolled in Megaline’s two plans, Surf and Ultimate, we can see several similarities and differences. In terms of calling, users in both seem to be pretty similar in their distribution of call duration per month. Internet traffic per month for users in both plans is also very similar to each other. When comparing the average payments per month for users in both plans, the users enrolled into the Surf plan has a wider range of payment amount compared to those enrolled in the Ultimate plan.\n",
    "\n",
    "When testing the hypothesis that the average revenue from Users of the Ultimate and Surf calling plans differ, we found that we can reject the null hypothesis because the average profits for the plans are different.\n",
    "\n",
    "When testing the hypothesis that the average revenue from users in the NY-NJ area is different from that of the users from the other regions, we found that we cannot reject the null hypothesis as the average profits comparing the two populations in the NY/NJ area are not the same.\n"
   ]
  },
  {
   "cell_type": "markdown",
   "metadata": {},
   "source": [
    " "
   ]
  }
 ],
 "metadata": {
  "ExecuteTimeLog": [
   {
    "duration": 828,
    "start_time": "2021-11-16T09:21:11.304Z"
   },
   {
    "duration": 893,
    "start_time": "2021-11-16T09:21:17.728Z"
   },
   {
    "duration": 1150,
    "start_time": "2021-11-16T09:21:29.568Z"
   },
   {
    "duration": 3,
    "start_time": "2021-11-16T09:24:14.495Z"
   },
   {
    "duration": 120,
    "start_time": "2021-11-16T09:24:46.630Z"
   },
   {
    "duration": 3,
    "start_time": "2021-11-16T09:28:27.882Z"
   },
   {
    "duration": 4,
    "start_time": "2021-11-16T09:29:54.281Z"
   },
   {
    "duration": 3,
    "start_time": "2021-11-16T09:30:45.936Z"
   },
   {
    "duration": 4,
    "start_time": "2021-11-16T09:31:06.300Z"
   },
   {
    "duration": 113,
    "start_time": "2021-11-16T09:31:37.208Z"
   },
   {
    "duration": 143,
    "start_time": "2021-11-16T09:31:48.656Z"
   },
   {
    "duration": 98,
    "start_time": "2021-11-16T09:31:55.678Z"
   },
   {
    "duration": 3,
    "start_time": "2021-11-16T09:32:08.535Z"
   },
   {
    "duration": 111,
    "start_time": "2021-11-16T09:32:10.120Z"
   },
   {
    "duration": 3,
    "start_time": "2021-11-16T09:32:15.732Z"
   },
   {
    "duration": 4,
    "start_time": "2021-11-16T09:32:29.423Z"
   },
   {
    "duration": 3,
    "start_time": "2021-11-16T10:03:03.074Z"
   },
   {
    "duration": 3,
    "start_time": "2021-11-16T10:10:01.288Z"
   },
   {
    "duration": 3,
    "start_time": "2021-11-16T10:10:46.923Z"
   },
   {
    "duration": 121,
    "start_time": "2021-11-16T10:37:46.494Z"
   },
   {
    "duration": 125,
    "start_time": "2021-11-16T10:38:20.632Z"
   },
   {
    "duration": 112,
    "start_time": "2021-11-16T10:46:53.001Z"
   },
   {
    "duration": 110,
    "start_time": "2021-11-16T10:48:25.775Z"
   },
   {
    "duration": 3,
    "start_time": "2021-11-16T10:50:18.720Z"
   },
   {
    "duration": 4,
    "start_time": "2021-11-16T10:50:37.649Z"
   },
   {
    "duration": 2,
    "start_time": "2021-11-16T10:50:51.884Z"
   },
   {
    "duration": 3,
    "start_time": "2021-11-16T10:51:56.237Z"
   },
   {
    "duration": 101,
    "start_time": "2021-11-16T10:53:13.791Z"
   },
   {
    "duration": 3,
    "start_time": "2021-11-16T10:55:59.186Z"
   },
   {
    "duration": 3,
    "start_time": "2021-11-16T10:56:10.751Z"
   },
   {
    "duration": 3,
    "start_time": "2021-11-16T10:56:49.038Z"
   },
   {
    "duration": 3,
    "start_time": "2021-11-16T10:56:49.174Z"
   },
   {
    "duration": 4,
    "start_time": "2021-11-16T10:56:49.414Z"
   },
   {
    "duration": 3,
    "start_time": "2021-11-16T10:56:49.680Z"
   },
   {
    "duration": 3,
    "start_time": "2021-11-16T10:56:50.370Z"
   },
   {
    "duration": 114,
    "start_time": "2021-11-16T10:59:34.518Z"
   },
   {
    "duration": 3,
    "start_time": "2021-11-16T11:01:41.201Z"
   },
   {
    "duration": 116,
    "start_time": "2021-11-16T11:01:48.754Z"
   },
   {
    "duration": 3,
    "start_time": "2021-11-16T11:02:16.685Z"
   },
   {
    "duration": 3,
    "start_time": "2021-11-16T11:02:19.479Z"
   },
   {
    "duration": 3,
    "start_time": "2021-11-16T11:02:47.067Z"
   },
   {
    "duration": 3,
    "start_time": "2021-11-16T11:02:49.353Z"
   },
   {
    "duration": 3,
    "start_time": "2021-11-16T11:03:07.835Z"
   },
   {
    "duration": 3,
    "start_time": "2021-11-16T11:03:07.953Z"
   },
   {
    "duration": 112,
    "start_time": "2021-11-16T11:07:52.072Z"
   },
   {
    "duration": 187,
    "start_time": "2021-11-16T11:09:23.468Z"
   },
   {
    "duration": 4,
    "start_time": "2021-11-16T11:10:01.455Z"
   },
   {
    "duration": 3,
    "start_time": "2021-11-16T11:10:05.069Z"
   },
   {
    "duration": 4,
    "start_time": "2021-11-16T11:10:13.376Z"
   },
   {
    "duration": 3,
    "start_time": "2021-11-16T11:10:14.434Z"
   },
   {
    "duration": 3,
    "start_time": "2021-11-16T11:10:22.853Z"
   },
   {
    "duration": 4,
    "start_time": "2021-11-16T11:27:29.279Z"
   },
   {
    "duration": 4,
    "start_time": "2021-11-16T11:29:08.919Z"
   },
   {
    "duration": 118,
    "start_time": "2021-11-16T11:29:46.703Z"
   },
   {
    "duration": 437,
    "start_time": "2021-11-16T11:36:02.181Z"
   },
   {
    "duration": 157,
    "start_time": "2021-11-16T11:36:14.388Z"
   },
   {
    "duration": 207,
    "start_time": "2021-11-16T11:47:15.898Z"
   },
   {
    "duration": 3,
    "start_time": "2021-11-16T11:53:52.092Z"
   },
   {
    "duration": 3,
    "start_time": "2021-11-16T11:53:52.236Z"
   },
   {
    "duration": 3,
    "start_time": "2021-11-16T11:59:12.005Z"
   },
   {
    "duration": 112,
    "start_time": "2021-11-16T12:00:33.446Z"
   },
   {
    "duration": 3,
    "start_time": "2021-11-16T12:02:14.453Z"
   },
   {
    "duration": 3,
    "start_time": "2021-11-16T12:02:39.512Z"
   },
   {
    "duration": 106,
    "start_time": "2021-11-16T12:03:03.460Z"
   },
   {
    "duration": 3,
    "start_time": "2021-11-17T20:37:21.139Z"
   },
   {
    "duration": 3,
    "start_time": "2021-11-17T20:37:22.229Z"
   },
   {
    "duration": 3,
    "start_time": "2021-11-17T20:38:38.806Z"
   },
   {
    "duration": 3,
    "start_time": "2021-11-17T20:38:41.958Z"
   },
   {
    "duration": 3,
    "start_time": "2021-11-17T20:43:46.551Z"
   },
   {
    "duration": 4,
    "start_time": "2021-11-17T20:58:21.835Z"
   },
   {
    "duration": 3,
    "start_time": "2021-11-17T20:59:21.872Z"
   },
   {
    "duration": 4,
    "start_time": "2021-11-17T20:59:45.352Z"
   },
   {
    "duration": 4,
    "start_time": "2021-11-17T20:59:49.646Z"
   },
   {
    "duration": 159,
    "start_time": "2021-11-17T21:02:26.949Z"
   },
   {
    "duration": 3,
    "start_time": "2021-11-17T21:03:53.461Z"
   },
   {
    "duration": 3,
    "start_time": "2021-11-17T21:03:53.694Z"
   },
   {
    "duration": 3,
    "start_time": "2021-11-17T21:05:28.145Z"
   },
   {
    "duration": 116,
    "start_time": "2021-11-17T21:05:57.787Z"
   },
   {
    "duration": 3,
    "start_time": "2021-11-17T21:06:37.993Z"
   },
   {
    "duration": 3,
    "start_time": "2021-11-17T21:06:38.261Z"
   },
   {
    "duration": 3,
    "start_time": "2021-11-17T21:11:54.358Z"
   },
   {
    "duration": 3,
    "start_time": "2021-11-17T21:12:43.846Z"
   },
   {
    "duration": 4,
    "start_time": "2021-11-17T21:13:08.773Z"
   },
   {
    "duration": 3,
    "start_time": "2021-11-17T21:14:44.441Z"
   },
   {
    "duration": 3,
    "start_time": "2021-11-17T21:15:42.059Z"
   },
   {
    "duration": 4,
    "start_time": "2021-11-17T21:15:51.995Z"
   },
   {
    "duration": 3,
    "start_time": "2021-11-17T21:15:53.923Z"
   },
   {
    "duration": 3,
    "start_time": "2021-11-17T21:15:55.282Z"
   },
   {
    "duration": 3,
    "start_time": "2021-11-17T21:16:28.492Z"
   },
   {
    "duration": 3,
    "start_time": "2021-11-17T21:16:32.603Z"
   },
   {
    "duration": 3,
    "start_time": "2021-11-17T21:17:06.941Z"
   },
   {
    "duration": 98,
    "start_time": "2021-11-17T21:18:05.733Z"
   },
   {
    "duration": 4,
    "start_time": "2021-11-17T21:21:35.255Z"
   },
   {
    "duration": 3,
    "start_time": "2021-11-17T21:21:37.804Z"
   },
   {
    "duration": 4,
    "start_time": "2021-11-17T21:23:06.071Z"
   },
   {
    "duration": 3,
    "start_time": "2021-11-17T21:23:24.799Z"
   },
   {
    "duration": 3,
    "start_time": "2021-11-17T21:23:32.591Z"
   },
   {
    "duration": 98,
    "start_time": "2021-11-17T21:28:31.559Z"
   },
   {
    "duration": 3,
    "start_time": "2021-11-17T21:28:45.448Z"
   },
   {
    "duration": 3,
    "start_time": "2021-11-17T21:29:17.303Z"
   },
   {
    "duration": 3,
    "start_time": "2021-11-17T21:29:29.617Z"
   },
   {
    "duration": 3,
    "start_time": "2021-11-17T21:29:32.681Z"
   },
   {
    "duration": 3,
    "start_time": "2021-11-17T21:36:11.474Z"
   },
   {
    "duration": 3,
    "start_time": "2021-11-17T21:36:14.791Z"
   },
   {
    "duration": 3,
    "start_time": "2021-11-17T21:36:53.943Z"
   },
   {
    "duration": 3,
    "start_time": "2021-11-17T21:36:56.165Z"
   },
   {
    "duration": 4,
    "start_time": "2021-11-17T21:37:16.590Z"
   },
   {
    "duration": 3,
    "start_time": "2021-11-17T21:37:22.702Z"
   },
   {
    "duration": 4,
    "start_time": "2021-11-17T21:38:03.479Z"
   },
   {
    "duration": 3,
    "start_time": "2021-11-17T21:38:08.601Z"
   },
   {
    "duration": 3,
    "start_time": "2021-11-17T21:38:12.928Z"
   },
   {
    "duration": 3,
    "start_time": "2021-11-17T21:38:48.896Z"
   },
   {
    "duration": 2,
    "start_time": "2021-11-17T21:38:49.171Z"
   },
   {
    "duration": 4,
    "start_time": "2021-11-17T21:39:57.889Z"
   },
   {
    "duration": 3,
    "start_time": "2021-11-17T21:39:58.057Z"
   },
   {
    "duration": 3,
    "start_time": "2021-11-17T21:41:20.108Z"
   },
   {
    "duration": 3,
    "start_time": "2021-11-17T21:41:20.629Z"
   },
   {
    "duration": 3,
    "start_time": "2021-11-17T21:42:49.136Z"
   },
   {
    "duration": 3,
    "start_time": "2021-11-17T21:43:15.137Z"
   },
   {
    "duration": 4,
    "start_time": "2021-11-17T21:43:16.766Z"
   },
   {
    "duration": 4,
    "start_time": "2021-11-17T21:43:31.711Z"
   },
   {
    "duration": 3,
    "start_time": "2021-11-17T21:43:36.312Z"
   },
   {
    "duration": 4,
    "start_time": "2021-11-17T21:45:08.825Z"
   },
   {
    "duration": 4,
    "start_time": "2021-11-17T21:45:10.119Z"
   },
   {
    "duration": 4,
    "start_time": "2021-11-17T21:45:13.748Z"
   },
   {
    "duration": 3,
    "start_time": "2021-11-17T21:45:22.219Z"
   },
   {
    "duration": 3,
    "start_time": "2021-11-17T21:45:33.412Z"
   },
   {
    "duration": 2,
    "start_time": "2021-11-17T21:46:01.885Z"
   },
   {
    "duration": 3,
    "start_time": "2021-11-17T21:46:03.628Z"
   },
   {
    "duration": 107,
    "start_time": "2021-11-17T21:47:32.512Z"
   },
   {
    "duration": 103,
    "start_time": "2021-11-17T21:50:36.243Z"
   },
   {
    "duration": 3,
    "start_time": "2021-11-18T06:28:31.440Z"
   },
   {
    "duration": 3,
    "start_time": "2021-11-18T06:29:00.168Z"
   },
   {
    "duration": 3,
    "start_time": "2021-11-18T06:31:27.008Z"
   },
   {
    "duration": 2,
    "start_time": "2021-11-18T06:35:34.288Z"
   },
   {
    "duration": 2,
    "start_time": "2021-11-18T06:38:04.527Z"
   }
  ],
  "kernelspec": {
   "display_name": "Python 3 (ipykernel)",
   "language": "python",
   "name": "python3"
  },
  "language_info": {
   "codemirror_mode": {
    "name": "ipython",
    "version": 3
   },
   "file_extension": ".py",
   "mimetype": "text/x-python",
   "name": "python",
   "nbconvert_exporter": "python",
   "pygments_lexer": "ipython3",
   "version": "3.9.5"
  },
  "toc": {
   "base_numbering": 1,
   "nav_menu": {},
   "number_sections": true,
   "sideBar": true,
   "skip_h1_title": false,
   "title_cell": "Table of Contents",
   "title_sidebar": "Contents",
   "toc_cell": false,
   "toc_position": {
    "height": "calc(100% - 180px)",
    "left": "10px",
    "top": "150px",
    "width": "165px"
   },
   "toc_section_display": true,
   "toc_window_display": false
  }
 },
 "nbformat": 4,
 "nbformat_minor": 2
}
